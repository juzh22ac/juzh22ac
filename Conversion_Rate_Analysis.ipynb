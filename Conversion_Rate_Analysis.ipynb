{
 "cells": [
  {
   "cell_type": "markdown",
   "id": "b379aad0",
   "metadata": {
    "toc": true
   },
   "source": [
    "<h1>Table of Contents<span class=\"tocSkip\"></span></h1>\n",
    "<div class=\"toc\"><ul class=\"toc-item\"><li><span><a href=\"#Determine-Project-BackGround-&amp;-Objective\" data-toc-modified-id=\"Determine-Project-BackGround-&amp;-Objective-1\"><span class=\"toc-item-num\">1&nbsp;&nbsp;</span>Determine Project BackGround &amp; Objective</a></span></li><li><span><a href=\"#Data-Exploration\" data-toc-modified-id=\"Data-Exploration-2\"><span class=\"toc-item-num\">2&nbsp;&nbsp;</span>Data Exploration</a></span><ul class=\"toc-item\"><li><span><a href=\"#Import-data-science-and-visualization-libraries\" data-toc-modified-id=\"Import-data-science-and-visualization-libraries-2.1\"><span class=\"toc-item-num\">2.1&nbsp;&nbsp;</span>Import data science and visualization libraries</a></span></li><li><span><a href=\"#Data-Loading\" data-toc-modified-id=\"Data-Loading-2.2\"><span class=\"toc-item-num\">2.2&nbsp;&nbsp;</span>Data Loading</a></span></li><li><span><a href=\"#Characteristic-Visualization\" data-toc-modified-id=\"Characteristic-Visualization-2.3\"><span class=\"toc-item-num\">2.3&nbsp;&nbsp;</span>Characteristic Visualization</a></span><ul class=\"toc-item\"><li><span><a href=\"#new_user\" data-toc-modified-id=\"new_user-2.3.1\"><span class=\"toc-item-num\">2.3.1&nbsp;&nbsp;</span>new_user</a></span></li><li><span><a href=\"#age\" data-toc-modified-id=\"age-2.3.2\"><span class=\"toc-item-num\">2.3.2&nbsp;&nbsp;</span>age</a></span></li><li><span><a href=\"#Gender\" data-toc-modified-id=\"Gender-2.3.3\"><span class=\"toc-item-num\">2.3.3&nbsp;&nbsp;</span>Gender</a></span></li><li><span><a href=\"#market\" data-toc-modified-id=\"market-2.3.4\"><span class=\"toc-item-num\">2.3.4&nbsp;&nbsp;</span>market</a></span></li><li><span><a href=\"#device\" data-toc-modified-id=\"device-2.3.5\"><span class=\"toc-item-num\">2.3.5&nbsp;&nbsp;</span>device</a></span></li><li><span><a href=\"#operation_system\" data-toc-modified-id=\"operation_system-2.3.6\"><span class=\"toc-item-num\">2.3.6&nbsp;&nbsp;</span>operation_system</a></span></li><li><span><a href=\"#sources\" data-toc-modified-id=\"sources-2.3.7\"><span class=\"toc-item-num\">2.3.7&nbsp;&nbsp;</span>sources</a></span></li><li><span><a href=\"#total_page_visited\" data-toc-modified-id=\"total_page_visited-2.3.8\"><span class=\"toc-item-num\">2.3.8&nbsp;&nbsp;</span>total_page_visited</a></span></li></ul></li></ul></li><li><span><a href=\"#Data-Processing\" data-toc-modified-id=\"Data-Processing-3\"><span class=\"toc-item-num\">3&nbsp;&nbsp;</span>Data Processing</a></span><ul class=\"toc-item\"><li><span><a href=\"#Outlier-Analysis\" data-toc-modified-id=\"Outlier-Analysis-3.1\"><span class=\"toc-item-num\">3.1&nbsp;&nbsp;</span>Outlier Analysis</a></span></li><li><span><a href=\"#Missing-Value\" data-toc-modified-id=\"Missing-Value-3.2\"><span class=\"toc-item-num\">3.2&nbsp;&nbsp;</span>Missing Value</a></span><ul class=\"toc-item\"><li><span><a href=\"#source\" data-toc-modified-id=\"source-3.2.1\"><span class=\"toc-item-num\">3.2.1&nbsp;&nbsp;</span>source</a></span></li><li><span><a href=\"#device\" data-toc-modified-id=\"device-3.2.2\"><span class=\"toc-item-num\">3.2.2&nbsp;&nbsp;</span>device</a></span></li><li><span><a href=\"#gender\" data-toc-modified-id=\"gender-3.2.3\"><span class=\"toc-item-num\">3.2.3&nbsp;&nbsp;</span>gender</a></span></li><li><span><a href=\"#operative-system\" data-toc-modified-id=\"operative-system-3.2.4\"><span class=\"toc-item-num\">3.2.4&nbsp;&nbsp;</span>operative system</a></span></li></ul></li><li><span><a href=\"#Consistency-Analysis\" data-toc-modified-id=\"Consistency-Analysis-3.3\"><span class=\"toc-item-num\">3.3&nbsp;&nbsp;</span>Consistency Analysis</a></span></li></ul></li><li><span><a href=\"#Feature-Enginnering\" data-toc-modified-id=\"Feature-Enginnering-4\"><span class=\"toc-item-num\">4&nbsp;&nbsp;</span>Feature Enginnering</a></span><ul class=\"toc-item\"><li><span><a href=\"#Features-for-Funnel-analysis\" data-toc-modified-id=\"Features-for-Funnel-analysis-4.1\"><span class=\"toc-item-num\">4.1&nbsp;&nbsp;</span>Features for Funnel analysis</a></span><ul class=\"toc-item\"><li><span><a href=\"#Funnel-Analysis:-Gender\" data-toc-modified-id=\"Funnel-Analysis:-Gender-4.1.1\"><span class=\"toc-item-num\">4.1.1&nbsp;&nbsp;</span>Funnel Analysis: Gender</a></span></li><li><span><a href=\"#Funnel-Analysis:-Device\" data-toc-modified-id=\"Funnel-Analysis:-Device-4.1.2\"><span class=\"toc-item-num\">4.1.2&nbsp;&nbsp;</span>Funnel Analysis: Device</a></span></li><li><span><a href=\"#Funnel-Analysis:-market\" data-toc-modified-id=\"Funnel-Analysis:-market-4.1.3\"><span class=\"toc-item-num\">4.1.3&nbsp;&nbsp;</span>Funnel Analysis: market</a></span></li></ul></li><li><span><a href=\"#Features-for-Modeling\" data-toc-modified-id=\"Features-for-Modeling-4.2\"><span class=\"toc-item-num\">4.2&nbsp;&nbsp;</span>Features for Modeling</a></span><ul class=\"toc-item\"><li><span><a href=\"#Feature-Construct\" data-toc-modified-id=\"Feature-Construct-4.2.1\"><span class=\"toc-item-num\">4.2.1&nbsp;&nbsp;</span>Feature Construct</a></span></li><li><span><a href=\"#Feature-choosing\" data-toc-modified-id=\"Feature-choosing-4.2.2\"><span class=\"toc-item-num\">4.2.2&nbsp;&nbsp;</span>Feature choosing</a></span></li><li><span><a href=\"#Feature-Processing\" data-toc-modified-id=\"Feature-Processing-4.2.3\"><span class=\"toc-item-num\">4.2.3&nbsp;&nbsp;</span>Feature Processing</a></span></li></ul></li></ul></li><li><span><a href=\"#Model-building\" data-toc-modified-id=\"Model-building-5\"><span class=\"toc-item-num\">5&nbsp;&nbsp;</span>Model building</a></span><ul class=\"toc-item\"><li><span><a href=\"#Logistic-Regression\" data-toc-modified-id=\"Logistic-Regression-5.1\"><span class=\"toc-item-num\">5.1&nbsp;&nbsp;</span>Logistic Regression</a></span><ul class=\"toc-item\"><li><span><a href=\"#feature-importance\" data-toc-modified-id=\"feature-importance-5.1.1\"><span class=\"toc-item-num\">5.1.1&nbsp;&nbsp;</span>feature importance</a></span></li></ul></li><li><span><a href=\"#Random-Forest-Model\" data-toc-modified-id=\"Random-Forest-Model-5.2\"><span class=\"toc-item-num\">5.2&nbsp;&nbsp;</span>Random Forest Model</a></span></li><li><span><a href=\"#MLP-model\" data-toc-modified-id=\"MLP-model-5.3\"><span class=\"toc-item-num\">5.3&nbsp;&nbsp;</span>MLP model</a></span></li><li><span><a href=\"#Cross-validation\" data-toc-modified-id=\"Cross-validation-5.4\"><span class=\"toc-item-num\">5.4&nbsp;&nbsp;</span>Cross-validation</a></span></li></ul></li></ul></div>"
   ]
  },
  {
   "cell_type": "markdown",
   "id": "00627f42",
   "metadata": {},
   "source": [
    "# Determine Project BackGround & Objective\n"
   ]
  },
  {
   "cell_type": "markdown",
   "id": "ef7315dd",
   "metadata": {},
   "source": [
    "# Data Exploration "
   ]
  },
  {
   "cell_type": "markdown",
   "id": "9b089a41",
   "metadata": {},
   "source": [
    "## Import data science and visualization libraries"
   ]
  },
  {
   "cell_type": "code",
   "execution_count": 102,
   "id": "b96db6e0",
   "metadata": {},
   "outputs": [],
   "source": [
    "import pandas as pd\n",
    "import numpy as np\n",
    "\n",
    "import matplotlib.pyplot as plt\n",
    "import seaborn as sns\n",
    "\n",
    "import warnings \n",
    "warnings.filterwarnings('ignore')"
   ]
  },
  {
   "cell_type": "markdown",
   "id": "58bb9de6",
   "metadata": {},
   "source": [
    "## Data Loading\n",
    "-- home_page: users viewed home page  \n",
    "-- listing_page: users viewed product listing page   \n",
    "-- product_page: users viewed product detail page  \n",
    "-- payment_page: users viewed payment page  \n",
    "-- confirmation_page: user viewed confirmation page  "
   ]
  },
  {
   "cell_type": "code",
   "execution_count": 2,
   "id": "c5dd7b45",
   "metadata": {},
   "outputs": [
    {
     "data": {
      "text/html": [
       "<div>\n",
       "<style scoped>\n",
       "    .dataframe tbody tr th:only-of-type {\n",
       "        vertical-align: middle;\n",
       "    }\n",
       "\n",
       "    .dataframe tbody tr th {\n",
       "        vertical-align: top;\n",
       "    }\n",
       "\n",
       "    .dataframe thead th {\n",
       "        text-align: right;\n",
       "    }\n",
       "</style>\n",
       "<table border=\"1\" class=\"dataframe\">\n",
       "  <thead>\n",
       "    <tr style=\"text-align: right;\">\n",
       "      <th></th>\n",
       "      <th>user_id</th>\n",
       "      <th>new_user</th>\n",
       "      <th>age</th>\n",
       "      <th>sex</th>\n",
       "      <th>market</th>\n",
       "      <th>device</th>\n",
       "      <th>operative_system</th>\n",
       "      <th>source</th>\n",
       "      <th>total_pages_visited</th>\n",
       "    </tr>\n",
       "  </thead>\n",
       "  <tbody>\n",
       "    <tr>\n",
       "      <th>0</th>\n",
       "      <td>jd_4c330e6d48c42</td>\n",
       "      <td>0</td>\n",
       "      <td>17</td>\n",
       "      <td>Female</td>\n",
       "      <td>1</td>\n",
       "      <td>mobile</td>\n",
       "      <td>android</td>\n",
       "      <td>Direct</td>\n",
       "      <td>3</td>\n",
       "    </tr>\n",
       "    <tr>\n",
       "      <th>1</th>\n",
       "      <td>jd_4c32f441e139d</td>\n",
       "      <td>0</td>\n",
       "      <td>27</td>\n",
       "      <td>Male</td>\n",
       "      <td>2</td>\n",
       "      <td>mobile</td>\n",
       "      <td>iOS</td>\n",
       "      <td>Direct</td>\n",
       "      <td>5</td>\n",
       "    </tr>\n",
       "    <tr>\n",
       "      <th>2</th>\n",
       "      <td>jd_4c32a3701702f</td>\n",
       "      <td>0</td>\n",
       "      <td>24</td>\n",
       "      <td>Female</td>\n",
       "      <td>1</td>\n",
       "      <td>mobile</td>\n",
       "      <td>android</td>\n",
       "      <td>Seo</td>\n",
       "      <td>4</td>\n",
       "    </tr>\n",
       "    <tr>\n",
       "      <th>3</th>\n",
       "      <td>jd_4c328b1ccf6c9</td>\n",
       "      <td>0</td>\n",
       "      <td>21</td>\n",
       "      <td>Male</td>\n",
       "      <td>2</td>\n",
       "      <td>desktop</td>\n",
       "      <td>windows</td>\n",
       "      <td>Direct</td>\n",
       "      <td>5</td>\n",
       "    </tr>\n",
       "    <tr>\n",
       "      <th>4</th>\n",
       "      <td>jd_4c328a919ff3b</td>\n",
       "      <td>0</td>\n",
       "      <td>17</td>\n",
       "      <td>Male</td>\n",
       "      <td>2</td>\n",
       "      <td>mobile</td>\n",
       "      <td>iOS</td>\n",
       "      <td>Direct</td>\n",
       "      <td>6</td>\n",
       "    </tr>\n",
       "  </tbody>\n",
       "</table>\n",
       "</div>"
      ],
      "text/plain": [
       "            user_id  new_user  age     sex  market   device operative_system  \\\n",
       "0  jd_4c330e6d48c42         0   17  Female       1   mobile          android   \n",
       "1  jd_4c32f441e139d         0   27    Male       2   mobile              iOS   \n",
       "2  jd_4c32a3701702f         0   24  Female       1   mobile          android   \n",
       "3  jd_4c328b1ccf6c9         0   21    Male       2  desktop          windows   \n",
       "4  jd_4c328a919ff3b         0   17    Male       2   mobile              iOS   \n",
       "\n",
       "   source  total_pages_visited  \n",
       "0  Direct                    3  \n",
       "1  Direct                    5  \n",
       "2     Seo                    4  \n",
       "3  Direct                    5  \n",
       "4  Direct                    6  "
      ]
     },
     "execution_count": 2,
     "metadata": {},
     "output_type": "execute_result"
    }
   ],
   "source": [
    "user_info = pd.read_excel(\"data.xlsx\")\n",
    "user_info.head()\n",
    "## new_user: new user = 1, old user = 0, market: the market level user in "
   ]
  },
  {
   "cell_type": "code",
   "execution_count": 3,
   "id": "f3d6e533",
   "metadata": {},
   "outputs": [],
   "source": [
    "## data loading\n",
    "user_home = pd.read_excel(\"data.xlsx\",sheet_name = 1)\n",
    "user_listing = pd.read_excel(\"data.xlsx\",sheet_name = 2)\n",
    "user_product = pd.read_excel(\"data.xlsx\",sheet_name = 3)\n",
    "user_payment = pd.read_excel(\"data.xlsx\",sheet_name = 4)\n",
    "user_confirmation = pd.read_excel(\"data.xlsx\",sheet_name = 5)\n",
    "\n",
    "## data integration\n",
    "user_info = pd.merge(user_info, user_home, on = 'user_id',how = 'left')\n",
    "user_info.rename(columns = {'page':'home_page'},inplace = True)\n",
    "\n",
    "user_info = pd.merge(user_info, user_listing, on = 'user_id',how = 'left')\n",
    "user_info.rename(columns = {'page':'listing_page'},inplace = True)\n",
    "\n",
    "user_info = pd.merge(user_info, user_product, on = 'user_id',how = 'left')\n",
    "user_info.rename(columns = {'page':'product_page'},inplace = True)\n",
    "\n",
    "user_info = pd.merge(user_info, user_payment, on = 'user_id',how = 'left')\n",
    "user_info.rename(columns = {'page':'payment_page'},inplace = True)\n",
    "\n",
    "user_info = pd.merge(user_info, user_confirmation, on = 'user_id',how = 'left')\n",
    "user_info.rename(columns = {'page':'confirmation_page'},inplace = True)"
   ]
  },
  {
   "cell_type": "code",
   "execution_count": 4,
   "id": "c5c75d09",
   "metadata": {},
   "outputs": [
    {
     "data": {
      "text/html": [
       "<div>\n",
       "<style scoped>\n",
       "    .dataframe tbody tr th:only-of-type {\n",
       "        vertical-align: middle;\n",
       "    }\n",
       "\n",
       "    .dataframe tbody tr th {\n",
       "        vertical-align: top;\n",
       "    }\n",
       "\n",
       "    .dataframe thead th {\n",
       "        text-align: right;\n",
       "    }\n",
       "</style>\n",
       "<table border=\"1\" class=\"dataframe\">\n",
       "  <thead>\n",
       "    <tr style=\"text-align: right;\">\n",
       "      <th></th>\n",
       "      <th>user_id</th>\n",
       "      <th>new_user</th>\n",
       "      <th>age</th>\n",
       "      <th>sex</th>\n",
       "      <th>market</th>\n",
       "      <th>device</th>\n",
       "      <th>operative_system</th>\n",
       "      <th>source</th>\n",
       "      <th>total_pages_visited</th>\n",
       "      <th>home_page</th>\n",
       "      <th>listing_page</th>\n",
       "      <th>product_page</th>\n",
       "      <th>payment_page</th>\n",
       "      <th>confirmation_page</th>\n",
       "    </tr>\n",
       "  </thead>\n",
       "  <tbody>\n",
       "    <tr>\n",
       "      <th>0</th>\n",
       "      <td>jd_4c330e6d48c42</td>\n",
       "      <td>0</td>\n",
       "      <td>17</td>\n",
       "      <td>Female</td>\n",
       "      <td>1</td>\n",
       "      <td>mobile</td>\n",
       "      <td>android</td>\n",
       "      <td>Direct</td>\n",
       "      <td>3</td>\n",
       "      <td>home_page</td>\n",
       "      <td>listing_page</td>\n",
       "      <td>product_page</td>\n",
       "      <td>0</td>\n",
       "      <td>0</td>\n",
       "    </tr>\n",
       "    <tr>\n",
       "      <th>1</th>\n",
       "      <td>jd_4c32f441e139d</td>\n",
       "      <td>0</td>\n",
       "      <td>27</td>\n",
       "      <td>Male</td>\n",
       "      <td>2</td>\n",
       "      <td>mobile</td>\n",
       "      <td>iOS</td>\n",
       "      <td>Direct</td>\n",
       "      <td>5</td>\n",
       "      <td>home_page</td>\n",
       "      <td>0</td>\n",
       "      <td>0</td>\n",
       "      <td>0</td>\n",
       "      <td>0</td>\n",
       "    </tr>\n",
       "    <tr>\n",
       "      <th>2</th>\n",
       "      <td>jd_4c32a3701702f</td>\n",
       "      <td>0</td>\n",
       "      <td>24</td>\n",
       "      <td>Female</td>\n",
       "      <td>1</td>\n",
       "      <td>mobile</td>\n",
       "      <td>android</td>\n",
       "      <td>Seo</td>\n",
       "      <td>4</td>\n",
       "      <td>home_page</td>\n",
       "      <td>listing_page</td>\n",
       "      <td>0</td>\n",
       "      <td>0</td>\n",
       "      <td>0</td>\n",
       "    </tr>\n",
       "    <tr>\n",
       "      <th>3</th>\n",
       "      <td>jd_4c328b1ccf6c9</td>\n",
       "      <td>0</td>\n",
       "      <td>21</td>\n",
       "      <td>Male</td>\n",
       "      <td>2</td>\n",
       "      <td>desktop</td>\n",
       "      <td>windows</td>\n",
       "      <td>Direct</td>\n",
       "      <td>5</td>\n",
       "      <td>home_page</td>\n",
       "      <td>listing_page</td>\n",
       "      <td>product_page</td>\n",
       "      <td>payment_page</td>\n",
       "      <td>0</td>\n",
       "    </tr>\n",
       "    <tr>\n",
       "      <th>4</th>\n",
       "      <td>jd_4c328a919ff3b</td>\n",
       "      <td>0</td>\n",
       "      <td>17</td>\n",
       "      <td>Male</td>\n",
       "      <td>2</td>\n",
       "      <td>mobile</td>\n",
       "      <td>iOS</td>\n",
       "      <td>Direct</td>\n",
       "      <td>6</td>\n",
       "      <td>home_page</td>\n",
       "      <td>listing_page</td>\n",
       "      <td>0</td>\n",
       "      <td>0</td>\n",
       "      <td>0</td>\n",
       "    </tr>\n",
       "  </tbody>\n",
       "</table>\n",
       "</div>"
      ],
      "text/plain": [
       "            user_id  new_user  age     sex  market   device operative_system  \\\n",
       "0  jd_4c330e6d48c42         0   17  Female       1   mobile          android   \n",
       "1  jd_4c32f441e139d         0   27    Male       2   mobile              iOS   \n",
       "2  jd_4c32a3701702f         0   24  Female       1   mobile          android   \n",
       "3  jd_4c328b1ccf6c9         0   21    Male       2  desktop          windows   \n",
       "4  jd_4c328a919ff3b         0   17    Male       2   mobile              iOS   \n",
       "\n",
       "   source  total_pages_visited  home_page  listing_page  product_page  \\\n",
       "0  Direct                    3  home_page  listing_page  product_page   \n",
       "1  Direct                    5  home_page             0             0   \n",
       "2     Seo                    4  home_page  listing_page             0   \n",
       "3  Direct                    5  home_page  listing_page  product_page   \n",
       "4  Direct                    6  home_page  listing_page             0   \n",
       "\n",
       "   payment_page confirmation_page  \n",
       "0             0                 0  \n",
       "1             0                 0  \n",
       "2             0                 0  \n",
       "3  payment_page                 0  \n",
       "4             0                 0  "
      ]
     },
     "execution_count": 4,
     "metadata": {},
     "output_type": "execute_result"
    }
   ],
   "source": [
    "## Data Washing, replace the null value to 0\n",
    "for col in ['home_page','listing_page','product_page','payment_page','confirmation_page']:\n",
    "    user_info[col].fillna(0,inplace = True)\n",
    "    \n",
    "user_info.head()"
   ]
  },
  {
   "cell_type": "code",
   "execution_count": 5,
   "id": "a2958afe",
   "metadata": {},
   "outputs": [
    {
     "data": {
      "text/html": [
       "<div>\n",
       "<style scoped>\n",
       "    .dataframe tbody tr th:only-of-type {\n",
       "        vertical-align: middle;\n",
       "    }\n",
       "\n",
       "    .dataframe tbody tr th {\n",
       "        vertical-align: top;\n",
       "    }\n",
       "\n",
       "    .dataframe thead th {\n",
       "        text-align: right;\n",
       "    }\n",
       "</style>\n",
       "<table border=\"1\" class=\"dataframe\">\n",
       "  <thead>\n",
       "    <tr style=\"text-align: right;\">\n",
       "      <th></th>\n",
       "      <th>user_id</th>\n",
       "      <th>new_user</th>\n",
       "      <th>age</th>\n",
       "      <th>sex</th>\n",
       "      <th>market</th>\n",
       "      <th>device</th>\n",
       "      <th>operative_system</th>\n",
       "      <th>source</th>\n",
       "      <th>total_pages_visited</th>\n",
       "      <th>home_page</th>\n",
       "      <th>listing_page</th>\n",
       "      <th>product_page</th>\n",
       "      <th>payment_page</th>\n",
       "      <th>confirmation_page</th>\n",
       "    </tr>\n",
       "  </thead>\n",
       "  <tbody>\n",
       "    <tr>\n",
       "      <th>0</th>\n",
       "      <td>jd_4c330e6d48c42</td>\n",
       "      <td>0</td>\n",
       "      <td>17</td>\n",
       "      <td>Female</td>\n",
       "      <td>1</td>\n",
       "      <td>mobile</td>\n",
       "      <td>android</td>\n",
       "      <td>Direct</td>\n",
       "      <td>3</td>\n",
       "      <td>1</td>\n",
       "      <td>1</td>\n",
       "      <td>1</td>\n",
       "      <td>0</td>\n",
       "      <td>0</td>\n",
       "    </tr>\n",
       "    <tr>\n",
       "      <th>1</th>\n",
       "      <td>jd_4c32f441e139d</td>\n",
       "      <td>0</td>\n",
       "      <td>27</td>\n",
       "      <td>Male</td>\n",
       "      <td>2</td>\n",
       "      <td>mobile</td>\n",
       "      <td>iOS</td>\n",
       "      <td>Direct</td>\n",
       "      <td>5</td>\n",
       "      <td>1</td>\n",
       "      <td>0</td>\n",
       "      <td>0</td>\n",
       "      <td>0</td>\n",
       "      <td>0</td>\n",
       "    </tr>\n",
       "    <tr>\n",
       "      <th>2</th>\n",
       "      <td>jd_4c32a3701702f</td>\n",
       "      <td>0</td>\n",
       "      <td>24</td>\n",
       "      <td>Female</td>\n",
       "      <td>1</td>\n",
       "      <td>mobile</td>\n",
       "      <td>android</td>\n",
       "      <td>Seo</td>\n",
       "      <td>4</td>\n",
       "      <td>1</td>\n",
       "      <td>1</td>\n",
       "      <td>0</td>\n",
       "      <td>0</td>\n",
       "      <td>0</td>\n",
       "    </tr>\n",
       "    <tr>\n",
       "      <th>3</th>\n",
       "      <td>jd_4c328b1ccf6c9</td>\n",
       "      <td>0</td>\n",
       "      <td>21</td>\n",
       "      <td>Male</td>\n",
       "      <td>2</td>\n",
       "      <td>desktop</td>\n",
       "      <td>windows</td>\n",
       "      <td>Direct</td>\n",
       "      <td>5</td>\n",
       "      <td>1</td>\n",
       "      <td>1</td>\n",
       "      <td>1</td>\n",
       "      <td>1</td>\n",
       "      <td>0</td>\n",
       "    </tr>\n",
       "    <tr>\n",
       "      <th>4</th>\n",
       "      <td>jd_4c328a919ff3b</td>\n",
       "      <td>0</td>\n",
       "      <td>17</td>\n",
       "      <td>Male</td>\n",
       "      <td>2</td>\n",
       "      <td>mobile</td>\n",
       "      <td>iOS</td>\n",
       "      <td>Direct</td>\n",
       "      <td>6</td>\n",
       "      <td>1</td>\n",
       "      <td>1</td>\n",
       "      <td>0</td>\n",
       "      <td>0</td>\n",
       "      <td>0</td>\n",
       "    </tr>\n",
       "  </tbody>\n",
       "</table>\n",
       "</div>"
      ],
      "text/plain": [
       "            user_id  new_user  age     sex  market   device operative_system  \\\n",
       "0  jd_4c330e6d48c42         0   17  Female       1   mobile          android   \n",
       "1  jd_4c32f441e139d         0   27    Male       2   mobile              iOS   \n",
       "2  jd_4c32a3701702f         0   24  Female       1   mobile          android   \n",
       "3  jd_4c328b1ccf6c9         0   21    Male       2  desktop          windows   \n",
       "4  jd_4c328a919ff3b         0   17    Male       2   mobile              iOS   \n",
       "\n",
       "   source  total_pages_visited  home_page  listing_page  product_page  \\\n",
       "0  Direct                    3          1             1             1   \n",
       "1  Direct                    5          1             0             0   \n",
       "2     Seo                    4          1             1             0   \n",
       "3  Direct                    5          1             1             1   \n",
       "4  Direct                    6          1             1             0   \n",
       "\n",
       "   payment_page  confirmation_page  \n",
       "0             0                  0  \n",
       "1             0                  0  \n",
       "2             0                  0  \n",
       "3             1                  0  \n",
       "4             0                  0  "
      ]
     },
     "execution_count": 5,
     "metadata": {},
     "output_type": "execute_result"
    }
   ],
   "source": [
    "import re\n",
    "\n",
    "for col in ['home_page','listing_page','product_page','payment_page','confirmation_page']:\n",
    "    user_info[col].replace(re.compile('page'),1,inplace = True)\n",
    "    \n",
    "user_info.head()"
   ]
  },
  {
   "cell_type": "code",
   "execution_count": null,
   "id": "e1678d11",
   "metadata": {},
   "outputs": [],
   "source": [
    "user_info.info()"
   ]
  },
  {
   "cell_type": "code",
   "execution_count": 6,
   "id": "c1d1bd73",
   "metadata": {},
   "outputs": [
    {
     "data": {
      "text/html": [
       "<div>\n",
       "<style scoped>\n",
       "    .dataframe tbody tr th:only-of-type {\n",
       "        vertical-align: middle;\n",
       "    }\n",
       "\n",
       "    .dataframe tbody tr th {\n",
       "        vertical-align: top;\n",
       "    }\n",
       "\n",
       "    .dataframe thead th {\n",
       "        text-align: right;\n",
       "    }\n",
       "</style>\n",
       "<table border=\"1\" class=\"dataframe\">\n",
       "  <thead>\n",
       "    <tr style=\"text-align: right;\">\n",
       "      <th></th>\n",
       "      <th>new_user</th>\n",
       "      <th>age</th>\n",
       "      <th>market</th>\n",
       "      <th>total_pages_visited</th>\n",
       "      <th>home_page</th>\n",
       "      <th>listing_page</th>\n",
       "      <th>product_page</th>\n",
       "      <th>payment_page</th>\n",
       "      <th>confirmation_page</th>\n",
       "    </tr>\n",
       "  </thead>\n",
       "  <tbody>\n",
       "    <tr>\n",
       "      <th>count</th>\n",
       "      <td>100000.000000</td>\n",
       "      <td>100000.00000</td>\n",
       "      <td>100000.000000</td>\n",
       "      <td>100000.000000</td>\n",
       "      <td>100000.0</td>\n",
       "      <td>100000.000000</td>\n",
       "      <td>100000.000000</td>\n",
       "      <td>100000.000000</td>\n",
       "      <td>100000.000000</td>\n",
       "    </tr>\n",
       "    <tr>\n",
       "      <th>mean</th>\n",
       "      <td>0.315250</td>\n",
       "      <td>30.39508</td>\n",
       "      <td>1.722380</td>\n",
       "      <td>5.907490</td>\n",
       "      <td>1.0</td>\n",
       "      <td>0.738940</td>\n",
       "      <td>0.496180</td>\n",
       "      <td>0.068620</td>\n",
       "      <td>0.024040</td>\n",
       "    </tr>\n",
       "    <tr>\n",
       "      <th>std</th>\n",
       "      <td>0.464618</td>\n",
       "      <td>8.04239</td>\n",
       "      <td>0.965203</td>\n",
       "      <td>4.199546</td>\n",
       "      <td>0.0</td>\n",
       "      <td>0.439215</td>\n",
       "      <td>0.499988</td>\n",
       "      <td>0.252808</td>\n",
       "      <td>0.153174</td>\n",
       "    </tr>\n",
       "    <tr>\n",
       "      <th>min</th>\n",
       "      <td>0.000000</td>\n",
       "      <td>17.00000</td>\n",
       "      <td>1.000000</td>\n",
       "      <td>1.000000</td>\n",
       "      <td>1.0</td>\n",
       "      <td>0.000000</td>\n",
       "      <td>0.000000</td>\n",
       "      <td>0.000000</td>\n",
       "      <td>0.000000</td>\n",
       "    </tr>\n",
       "    <tr>\n",
       "      <th>25%</th>\n",
       "      <td>0.000000</td>\n",
       "      <td>24.00000</td>\n",
       "      <td>1.000000</td>\n",
       "      <td>3.000000</td>\n",
       "      <td>1.0</td>\n",
       "      <td>0.000000</td>\n",
       "      <td>0.000000</td>\n",
       "      <td>0.000000</td>\n",
       "      <td>0.000000</td>\n",
       "    </tr>\n",
       "    <tr>\n",
       "      <th>50%</th>\n",
       "      <td>0.000000</td>\n",
       "      <td>30.00000</td>\n",
       "      <td>1.000000</td>\n",
       "      <td>5.000000</td>\n",
       "      <td>1.0</td>\n",
       "      <td>1.000000</td>\n",
       "      <td>0.000000</td>\n",
       "      <td>0.000000</td>\n",
       "      <td>0.000000</td>\n",
       "    </tr>\n",
       "    <tr>\n",
       "      <th>75%</th>\n",
       "      <td>1.000000</td>\n",
       "      <td>36.00000</td>\n",
       "      <td>2.000000</td>\n",
       "      <td>7.000000</td>\n",
       "      <td>1.0</td>\n",
       "      <td>1.000000</td>\n",
       "      <td>1.000000</td>\n",
       "      <td>0.000000</td>\n",
       "      <td>0.000000</td>\n",
       "    </tr>\n",
       "    <tr>\n",
       "      <th>max</th>\n",
       "      <td>1.000000</td>\n",
       "      <td>123.00000</td>\n",
       "      <td>4.000000</td>\n",
       "      <td>28.000000</td>\n",
       "      <td>1.0</td>\n",
       "      <td>1.000000</td>\n",
       "      <td>1.000000</td>\n",
       "      <td>1.000000</td>\n",
       "      <td>1.000000</td>\n",
       "    </tr>\n",
       "  </tbody>\n",
       "</table>\n",
       "</div>"
      ],
      "text/plain": [
       "            new_user           age         market  total_pages_visited  \\\n",
       "count  100000.000000  100000.00000  100000.000000        100000.000000   \n",
       "mean        0.315250      30.39508       1.722380             5.907490   \n",
       "std         0.464618       8.04239       0.965203             4.199546   \n",
       "min         0.000000      17.00000       1.000000             1.000000   \n",
       "25%         0.000000      24.00000       1.000000             3.000000   \n",
       "50%         0.000000      30.00000       1.000000             5.000000   \n",
       "75%         1.000000      36.00000       2.000000             7.000000   \n",
       "max         1.000000     123.00000       4.000000            28.000000   \n",
       "\n",
       "       home_page   listing_page   product_page   payment_page  \\\n",
       "count   100000.0  100000.000000  100000.000000  100000.000000   \n",
       "mean         1.0       0.738940       0.496180       0.068620   \n",
       "std          0.0       0.439215       0.499988       0.252808   \n",
       "min          1.0       0.000000       0.000000       0.000000   \n",
       "25%          1.0       0.000000       0.000000       0.000000   \n",
       "50%          1.0       1.000000       0.000000       0.000000   \n",
       "75%          1.0       1.000000       1.000000       0.000000   \n",
       "max          1.0       1.000000       1.000000       1.000000   \n",
       "\n",
       "       confirmation_page  \n",
       "count      100000.000000  \n",
       "mean            0.024040  \n",
       "std             0.153174  \n",
       "min             0.000000  \n",
       "25%             0.000000  \n",
       "50%             0.000000  \n",
       "75%             0.000000  \n",
       "max             1.000000  "
      ]
     },
     "execution_count": 6,
     "metadata": {},
     "output_type": "execute_result"
    }
   ],
   "source": [
    "user_info.describe()"
   ]
  },
  {
   "cell_type": "markdown",
   "id": "dfe85ed1",
   "metadata": {},
   "source": [
    "## Characteristic Visualization\n",
    "\n",
    "### new_user"
   ]
  },
  {
   "cell_type": "code",
   "execution_count": 7,
   "id": "854528de",
   "metadata": {},
   "outputs": [
    {
     "data": {
      "image/png": "[encoded data removed]",
      "text/plain": [
       "<Figure size 500x400 with 1 Axes>"
      ]
     },
     "metadata": {},
     "output_type": "display_data"
    }
   ],
   "source": [
    "plt.figure(figsize = (5,4))\n",
    "\n",
    "new_user = pd.DataFrame(user_info['new_user'].value_counts().reset_index(name = 'counts'))\n",
    "\n",
    "g = sns.barplot(x = 'index', y = 'counts', data = new_user)\n",
    "\n",
    "for index,row in new_user.iterrows():\n",
    "    g.text(row.name,row.counts,row.counts, color = 'black', ha = 'center')\n",
    "    \n",
    "plt.xlabel('Old User(0) and New User(1)')\n",
    "plt.ylabel('Number')\n",
    "plt.show()"
   ]
  },
  {
   "cell_type": "code",
   "execution_count": 8,
   "id": "e94cfe64",
   "metadata": {},
   "outputs": [
    {
     "data": {
      "image/png": "[encoded data removed]",
      "text/plain": [
       "<Figure size 640x480 with 1 Axes>"
      ]
     },
     "metadata": {},
     "output_type": "display_data"
    }
   ],
   "source": [
    "new_user = pd.DataFrame(user_info['new_user'].value_counts())\n",
    "\n",
    "labels = new_user.index.values\n",
    "sizes = new_user.values\n",
    "sizes = new_user.values.flatten()\n",
    "\n",
    "colors = ['green','c','gray','beige','darkkhaki','fuchsia']\n",
    "\n",
    "explode = (0.05,0)\n",
    "\n",
    "patches,l_text,p_text = plt.pie(sizes,explode = explode,labels = labels,colors = colors,\n",
    "                               labeldistance = 1.1, autopct = '%2.0f%%',shadow = False,\n",
    "                               startangle = 90,pctdistance = 0.5)\n",
    "\n",
    "for t in l_text:\n",
    "    t.set_size = 30\n",
    "\n",
    "for t in p_text:\n",
    "    t.set_size = 20\n",
    "\n",
    "plt.axis('equal')\n",
    "plt.legend(loc = 'upper right', bbox_to_anchor = (-0.1,1))\n",
    "plt.grid()\n",
    "plt.show()\n"
   ]
  },
  {
   "cell_type": "markdown",
   "id": "5d137a90",
   "metadata": {},
   "source": [
    "### age"
   ]
  },
  {
   "cell_type": "code",
   "execution_count": 9,
   "id": "d6274f93",
   "metadata": {},
   "outputs": [
    {
     "data": {
      "image/png": "[encoded data removed]",
      "text/plain": [
       "<Figure size 1000x600 with 1 Axes>"
      ]
     },
     "metadata": {},
     "output_type": "display_data"
    }
   ],
   "source": [
    "plt.figure(figsize = (10,6))\n",
    "sns.distplot(user_info['age'])\n",
    "plt.show()"
   ]
  },
  {
   "cell_type": "code",
   "execution_count": null,
   "id": "a8aef3e9",
   "metadata": {},
   "outputs": [],
   "source": [
    "age = pd.DataFrame(user_info['age'].value_counts().reset_index(name = 'counts'))\n",
    "\n",
    "plt.figure(figsize = (10,6))\n",
    "sns.lineplot(x = user_info['age'],y = 'counts',data = age)\n",
    "plt.title('distribution of age')\n",
    "plt.xlabel('Age')\n",
    "plt.ylabel('number')\n",
    "plt.show()\n"
   ]
  },
  {
   "cell_type": "markdown",
   "id": "8d6486a8",
   "metadata": {},
   "source": [
    "### Gender"
   ]
  },
  {
   "cell_type": "code",
   "execution_count": 10,
   "id": "94dfc53c",
   "metadata": {},
   "outputs": [
    {
     "data": {
      "image/png": "[encoded data removed]",
      "text/plain": [
       "<Figure size 500x400 with 1 Axes>"
      ]
     },
     "metadata": {},
     "output_type": "display_data"
    }
   ],
   "source": [
    "plt.figure(figsize = (5,4))\n",
    "sex = pd.DataFrame(user_info['sex'].value_counts().reset_index(name = 'counts'))\n",
    "\n",
    "g = sns.barplot(x = 'index', y = 'counts', data = sex)\n",
    "\n",
    "for index,row in sex.iterrows():\n",
    "    g.text(row.name,row.counts, row.counts, color = 'black',ha = 'center')\n",
    "\n",
    "plt.xlabel('User Gender')\n",
    "plt.ylabel('Number')\n",
    "plt.show()"
   ]
  },
  {
   "cell_type": "markdown",
   "id": "16391608",
   "metadata": {},
   "source": [
    "### market"
   ]
  },
  {
   "cell_type": "code",
   "execution_count": 11,
   "id": "dabd530e",
   "metadata": {},
   "outputs": [
    {
     "data": {
      "image/png": "[encoded data removed]",
      "text/plain": [
       "<Figure size 500x400 with 1 Axes>"
      ]
     },
     "metadata": {},
     "output_type": "display_data"
    }
   ],
   "source": [
    "plt.figure(figsize = (5,4))\n",
    "\n",
    "country = pd.DataFrame(user_info['market'].value_counts().reset_index(name = 'counts'))\n",
    "g = sns.barplot(x = 'index',y = 'counts',data = country)\n",
    "\n",
    "for index, row in country.iterrows():\n",
    "    g.text(row.name, row.counts, row.counts, color = 'black',ha = 'center')\n",
    "    \n",
    "plt.xlabel('Market')\n",
    "plt.ylabel('Number')\n",
    "plt.show()"
   ]
  },
  {
   "cell_type": "code",
   "execution_count": 12,
   "id": "728d2008",
   "metadata": {},
   "outputs": [
    {
     "data": {
      "image/png": "[encoded data removed]",
      "text/plain": [
       "<Figure size 640x480 with 1 Axes>"
      ]
     },
     "metadata": {},
     "output_type": "display_data"
    }
   ],
   "source": [
    "market = pd.DataFrame(user_info['market'].value_counts())\n",
    "\n",
    "labels = market.index\n",
    "##sizes = market.values\n",
    "sizes = market.values.flatten()\n",
    "\n",
    "\n",
    "colors = ['green','c','gray','beige','darkkhaki','fuchsia']\n",
    "\n",
    "explode = (0.05,0,0,0)\n",
    "\n",
    "patches, l_text, p_text = plt.pie(sizes,explode = explode,labels = labels,\n",
    "                                 colors = colors, labeldistance = 1.1, \n",
    "                                 autopct = \"%2.0f%%\",shadow = False,\n",
    "                                 startangle = 90, pctdistance = 0.5)\n",
    "\n",
    "for t in l_text:\n",
    "    t.set_size = 30\n",
    "for t in p_text:\n",
    "    t.set_size = 20\n",
    "    \n",
    "plt.axis('equal')\n",
    "plt.legend(loc = 'upper right', bbox_to_anchor = (-0.1,1))\n",
    "plt.grid()\n",
    "plt.show()\n",
    "    \n"
   ]
  },
  {
   "cell_type": "markdown",
   "id": "2ca071a1",
   "metadata": {},
   "source": [
    "### device"
   ]
  },
  {
   "cell_type": "code",
   "execution_count": 13,
   "id": "817fe900",
   "metadata": {
    "scrolled": true
   },
   "outputs": [
    {
     "data": {
      "image/png": "[encoded data removed]",
      "text/plain": [
       "<Figure size 500x400 with 1 Axes>"
      ]
     },
     "metadata": {},
     "output_type": "display_data"
    }
   ],
   "source": [
    "plt.figure(figsize = (5,4))\n",
    "\n",
    "device = pd.DataFrame(user_info['device'].value_counts().reset_index(name = 'counts'))\n",
    "\n",
    "g = sns.barplot(x = 'index', y = 'counts',data = device)\n",
    "\n",
    "for index,row in device.iterrows():\n",
    "    g.text(row.name, row.counts, row.counts, color = 'black', ha = 'center')\n",
    "\n",
    "plt.xlabel('User Device')\n",
    "plt.ylabel('Number')\n",
    "plt.show()"
   ]
  },
  {
   "cell_type": "code",
   "execution_count": 14,
   "id": "4054c7f5",
   "metadata": {
    "scrolled": true
   },
   "outputs": [
    {
     "data": {
      "image/png": "[encoded data removed]",
      "text/plain": [
       "<Figure size 640x480 with 1 Axes>"
      ]
     },
     "metadata": {},
     "output_type": "display_data"
    }
   ],
   "source": [
    "device = pd.DataFrame(user_info['device'].value_counts())\n",
    "\n",
    "labels = device.index\n",
    "sizes = device.values.flatten()\n",
    "\n",
    "\n",
    "colors = ['green','c','gray','beige','darkkhaki','fuchsia']\n",
    "\n",
    "explode = (0.05,0)\n",
    "\n",
    "patches, l_text, p_text = plt.pie(sizes,explode, labels = labels, colors = colors,\n",
    "                                 labeldistance = 1.1, autopct = '%2.0f%%',shadow = False,\n",
    "                                 startangle = 90, pctdistance = 0.5)\n",
    "\n",
    "for t in l_text:\n",
    "    t.set_size = 30\n",
    "for t in p_text:\n",
    "    t.set_size = 20\n",
    "\n",
    "    \n",
    "plt.axis('equal')\n",
    "plt.legend(loc = 'upper right', bbox_to_anchor = (-0.1,1))\n",
    "plt.grid()\n",
    "plt.show()\n",
    "    \n",
    "\n"
   ]
  },
  {
   "cell_type": "markdown",
   "id": "7ea03e6a",
   "metadata": {},
   "source": [
    "### operation_system"
   ]
  },
  {
   "cell_type": "code",
   "execution_count": 15,
   "id": "af063fc0",
   "metadata": {},
   "outputs": [
    {
     "data": {
      "image/png": "[encoded data removed]",
      "text/plain": [
       "<Figure size 500x400 with 1 Axes>"
      ]
     },
     "metadata": {},
     "output_type": "display_data"
    }
   ],
   "source": [
    "plt.figure(figsize = (5,4))\n",
    "\n",
    "operative_system = pd.DataFrame(user_info['operative_system'].value_counts().reset_index(name = 'counts'))\n",
    "\n",
    "g = sns.barplot(x = 'index', y = 'counts',data = operative_system)\n",
    "\n",
    "for index,row in operative_system.iterrows():\n",
    "    g.text(row.name, row.counts, row.counts, color = 'black', ha = 'center')\n",
    "\n",
    "plt.xlabel('Operation System')\n",
    "plt.ylabel('Number')\n",
    "plt.show()"
   ]
  },
  {
   "cell_type": "code",
   "execution_count": 16,
   "id": "7e722eae",
   "metadata": {},
   "outputs": [
    {
     "data": {
      "image/png": "[encoded data removed]",
      "text/plain": [
       "<Figure size 640x480 with 1 Axes>"
      ]
     },
     "metadata": {},
     "output_type": "display_data"
    }
   ],
   "source": [
    "operative_system = pd.DataFrame(user_info['operative_system'].value_counts())\n",
    "\n",
    "labels = operative_system.index\n",
    "sizes = operative_system.values.flatten()\n",
    "\n",
    "\n",
    "colors = ['green','c','gray','beige','darkkhaki','fuchsia']\n",
    "\n",
    "explode = (0.05,0,0,0,0,0)\n",
    "\n",
    "patches, l_text, p_text = plt.pie(sizes,explode, labels = labels, colors = colors,\n",
    "                                 labeldistance = 1.1, autopct = '%2.0f%%',shadow = False,\n",
    "                                 startangle = 90, pctdistance = 0.5)\n",
    "\n",
    "for t in l_text:\n",
    "    t.set_size = 30\n",
    "for t in p_text:\n",
    "    t.set_size = 20\n",
    "\n",
    "    \n",
    "plt.axis('equal')\n",
    "plt.legend(loc = 'upper right', bbox_to_anchor = (-0.1,1))\n",
    "plt.grid()\n",
    "plt.show()\n",
    "    "
   ]
  },
  {
   "cell_type": "markdown",
   "id": "b78227b8",
   "metadata": {},
   "source": [
    "### sources"
   ]
  },
  {
   "cell_type": "code",
   "execution_count": 17,
   "id": "15212c94",
   "metadata": {},
   "outputs": [
    {
     "data": {
      "image/png": "[encoded data removed]",
      "text/plain": [
       "<Figure size 500x400 with 1 Axes>"
      ]
     },
     "metadata": {},
     "output_type": "display_data"
    }
   ],
   "source": [
    "plt.figure(figsize = (5,4))\n",
    "\n",
    "source = pd.DataFrame(user_info['source'].value_counts().reset_index(name = 'counts'))\n",
    "\n",
    "g = sns.barplot(x = 'index', y = 'counts',data = source)\n",
    "\n",
    "for index,row in source.iterrows():\n",
    "    g.text(row.name, row.counts, row.counts, color = 'black', ha = 'center')\n",
    "\n",
    "plt.xlabel('User Source')\n",
    "plt.ylabel('Number')\n",
    "plt.show()"
   ]
  },
  {
   "cell_type": "code",
   "execution_count": 18,
   "id": "2c4d0a3c",
   "metadata": {},
   "outputs": [
    {
     "data": {
      "image/png": "[encoded data removed]",
      "text/plain": [
       "<Figure size 640x480 with 1 Axes>"
      ]
     },
     "metadata": {},
     "output_type": "display_data"
    }
   ],
   "source": [
    "source = pd.DataFrame(user_info['source'].value_counts())\n",
    "\n",
    "labels = source.index\n",
    "sizes = source.values.flatten()\n",
    "\n",
    "\n",
    "colors = ['green','c','gray','beige','darkkhaki','fuchsia']\n",
    "\n",
    "explode = (0.05,0,0)\n",
    "\n",
    "patches, l_text, p_text = plt.pie(sizes,explode, labels = labels, colors = colors,\n",
    "                                 labeldistance = 1.1, autopct = '%2.0f%%',shadow = False,\n",
    "                                 startangle = 90, pctdistance = 0.5)\n",
    "\n",
    "for t in l_text:\n",
    "    t.set_size = 30\n",
    "for t in p_text:\n",
    "    t.set_size = 20\n",
    "\n",
    "    \n",
    "plt.axis('equal')\n",
    "plt.legend(loc = 'upper right', bbox_to_anchor = (-0.1,1))\n",
    "plt.grid()\n",
    "plt.show()"
   ]
  },
  {
   "cell_type": "markdown",
   "id": "a5ac0d0a",
   "metadata": {},
   "source": [
    "### total_page_visited"
   ]
  },
  {
   "cell_type": "code",
   "execution_count": 19,
   "id": "a449ddcb",
   "metadata": {},
   "outputs": [
    {
     "data": {
      "image/png": "[encoded data removed]",
      "text/plain": [
       "<Figure size 1000x600 with 1 Axes>"
      ]
     },
     "metadata": {},
     "output_type": "display_data"
    }
   ],
   "source": [
    "plt.figure(figsize =(10,6))\n",
    "sns.distplot(user_info['total_pages_visited'])\n",
    "plt.show()"
   ]
  },
  {
   "cell_type": "code",
   "execution_count": null,
   "id": "bb419294",
   "metadata": {},
   "outputs": [],
   "source": [
    "plt.hist(user_info['total_pages_visited'], edgecolor = 'k', alpha = 0.35)\n",
    "plt.title('The distribution of visited times')\n",
    "plt.xlabel('Total page visited')\n",
    "plt.ylabel('User Number')\n",
    "plt.show()"
   ]
  },
  {
   "cell_type": "markdown",
   "id": "b50c697f",
   "metadata": {},
   "source": [
    "# Data Processing"
   ]
  },
  {
   "cell_type": "markdown",
   "id": "48d62bea",
   "metadata": {},
   "source": [
    "Data cleansing: Remove irrelevant data from the original dataset, duplicate data, smooth out noisy data, filter out data irrelevant to the mining topic, deal with missing values, outliers, etc.    \n",
    "Data Integration: the process of combining multiple data sets and storing them in a consistent data storage location (datawarehouse)    \n",
    "Data Transformation: The process of normalizing data into the appropriate form for mining and algorithmic purposes.    \n",
    "Data Normalization: improve the accuracy of modeling  "
   ]
  },
  {
   "cell_type": "markdown",
   "id": "0fc8368f",
   "metadata": {},
   "source": [
    "## Outlier Analysis"
   ]
  },
  {
   "cell_type": "code",
   "execution_count": 20,
   "id": "5eb0c2a3",
   "metadata": {},
   "outputs": [
    {
     "data": {
      "image/png": "[encoded data removed]",
      "text/plain": [
       "<Figure size 640x480 with 1 Axes>"
      ]
     },
     "metadata": {},
     "output_type": "display_data"
    }
   ],
   "source": [
    "boxplot = user_info.boxplot(column = ['age','total_pages_visited'])"
   ]
  },
  {
   "cell_type": "code",
   "execution_count": 21,
   "id": "b02a9626",
   "metadata": {},
   "outputs": [
    {
     "name": "stdout",
     "output_type": "stream",
     "text": [
      "123\n",
      "[123, 109, 67, 66, 65, 64, 63, 62, 61, 60, 59, 58, 57, 56, 55, 54, 53, 52, 51, 50, 49, 48, 47, 46, 45, 44, 43, 42, 41, 40, 39, 38, 37, 36, 35, 34, 33, 32, 31, 30, 29, 28, 27, 26, 25, 24, 23, 22, 21, 20, 19, 18, 17]\n"
     ]
    }
   ],
   "source": [
    "print(user_info['age'].max())\n",
    "print(sorted(user_info['age'].unique(), reverse = True))"
   ]
  },
  {
   "cell_type": "code",
   "execution_count": 22,
   "id": "4b3f8564",
   "metadata": {},
   "outputs": [],
   "source": [
    "user_info = user_info[user_info['age']<100]"
   ]
  },
  {
   "cell_type": "markdown",
   "id": "32a57070",
   "metadata": {},
   "source": [
    "## Missing Value\n",
    "\n",
    "Reasons for missing values: not available, considered a floor, not considered missing, attribute does not exist...  \n",
    "Handling of missing values: delete records, fill data, do not handle, consider missing values as a state as in decision trees"
   ]
  },
  {
   "cell_type": "code",
   "execution_count": 23,
   "id": "84d3fb83",
   "metadata": {},
   "outputs": [
    {
     "data": {
      "text/plain": [
       "user_id                  0\n",
       "new_user                 0\n",
       "age                      0\n",
       "sex                    773\n",
       "market                   0\n",
       "device                 133\n",
       "operative_system       217\n",
       "source                 123\n",
       "total_pages_visited      0\n",
       "home_page                0\n",
       "listing_page             0\n",
       "product_page             0\n",
       "payment_page             0\n",
       "confirmation_page        0\n",
       "dtype: int64"
      ]
     },
     "execution_count": 23,
     "metadata": {},
     "output_type": "execute_result"
    }
   ],
   "source": [
    "user_info.isnull().sum() ## exam the null value"
   ]
  },
  {
   "cell_type": "code",
   "execution_count": 24,
   "id": "bba6ca0e",
   "metadata": {},
   "outputs": [
    {
     "data": {
      "text/plain": [
       "user_id                0.00000\n",
       "new_user               0.00000\n",
       "age                    0.00000\n",
       "sex                    0.00773\n",
       "market                 0.00000\n",
       "device                 0.00133\n",
       "operative_system       0.00217\n",
       "source                 0.00123\n",
       "total_pages_visited    0.00000\n",
       "home_page              0.00000\n",
       "listing_page           0.00000\n",
       "product_page           0.00000\n",
       "payment_page           0.00000\n",
       "confirmation_page      0.00000\n",
       "dtype: float64"
      ]
     },
     "execution_count": 24,
     "metadata": {},
     "output_type": "execute_result"
    }
   ],
   "source": [
    "user_info.isnull().sum() / user_info.shape[0]"
   ]
  },
  {
   "cell_type": "markdown",
   "id": "4d907a63",
   "metadata": {},
   "source": [
    "### source  "
   ]
  },
  {
   "cell_type": "code",
   "execution_count": 25,
   "id": "e68d05df",
   "metadata": {},
   "outputs": [],
   "source": [
    "## Create a new dataset with no missing values to find patterns\n",
    "user_full = user_info.dropna()"
   ]
  },
  {
   "cell_type": "code",
   "execution_count": 26,
   "id": "014f69e3",
   "metadata": {},
   "outputs": [
    {
     "data": {
      "text/plain": [
       "new_user  source\n",
       "0         Ads        4362\n",
       "          Direct    53848\n",
       "          Seo        9426\n",
       "1         Ads       10305\n",
       "          Direct     2227\n",
       "          Seo       18588\n",
       "Name: user_id, dtype: int64"
      ]
     },
     "execution_count": 26,
     "metadata": {},
     "output_type": "execute_result"
    }
   ],
   "source": [
    "user_full.groupby(['new_user','source'])['user_id'].count()\n",
    "\n",
    "## Seo attract more users, but ads have a higher convertion rate, but not significant, need to improve."
   ]
  },
  {
   "cell_type": "code",
   "execution_count": 27,
   "id": "c083ff96",
   "metadata": {},
   "outputs": [],
   "source": [
    "## when new_user = 1, null value of source fill Seo\n",
    "user_info['source'] = np.where((user_info['source'].isnull())& (user_info['new_user']==1), 'Seo', user_info['source'])\n",
    "\n",
    "## when users are new user\n",
    "user_info['source'].fillna('Direct', inplace = True)"
   ]
  },
  {
   "cell_type": "code",
   "execution_count": 28,
   "id": "b901545e",
   "metadata": {},
   "outputs": [
    {
     "data": {
      "text/plain": [
       "user_id                  0\n",
       "new_user                 0\n",
       "age                      0\n",
       "sex                    773\n",
       "market                   0\n",
       "device                 133\n",
       "operative_system       217\n",
       "source                   0\n",
       "total_pages_visited      0\n",
       "home_page                0\n",
       "listing_page             0\n",
       "product_page             0\n",
       "payment_page             0\n",
       "confirmation_page        0\n",
       "dtype: int64"
      ]
     },
     "execution_count": 28,
     "metadata": {},
     "output_type": "execute_result"
    }
   ],
   "source": [
    "user_info.isnull().sum()"
   ]
  },
  {
   "cell_type": "markdown",
   "id": "7dfe586c",
   "metadata": {},
   "source": [
    "### device"
   ]
  },
  {
   "cell_type": "code",
   "execution_count": 29,
   "id": "d0d016f1",
   "metadata": {},
   "outputs": [],
   "source": [
    "user_info['device'] = np.where((user_info['device'].isnull())& (user_info['operative_system'].isin(['mac','windows','linux'])),'desktop',user_info['device'])\n",
    "\n",
    "user_info['device'] = np.where((user_info['device'].isnull())& (user_info['operative_system'].isin(['iOS','android'])),'mobile',user_info['device'])"
   ]
  },
  {
   "cell_type": "code",
   "execution_count": 30,
   "id": "fc40bf0d",
   "metadata": {},
   "outputs": [
    {
     "data": {
      "text/plain": [
       "mobile     60429\n",
       "desktop    39558\n",
       "Name: device, dtype: int64"
      ]
     },
     "execution_count": 30,
     "metadata": {},
     "output_type": "execute_result"
    }
   ],
   "source": [
    "user_info['device'].value_counts()"
   ]
  },
  {
   "cell_type": "code",
   "execution_count": 31,
   "id": "fe085d01",
   "metadata": {},
   "outputs": [],
   "source": [
    "## fill the null value of device with Mode\n",
    "user_info['device'].fillna(user_info['device'].mode()[0], inplace = True)"
   ]
  },
  {
   "cell_type": "markdown",
   "id": "7dc17d8f",
   "metadata": {},
   "source": [
    "### gender"
   ]
  },
  {
   "cell_type": "code",
   "execution_count": 32,
   "id": "91d4b859",
   "metadata": {},
   "outputs": [
    {
     "data": {
      "text/plain": [
       "operative_system  sex   \n",
       "android           Female    16445\n",
       "                  Male      10646\n",
       "iOS               Female    17476\n",
       "                  Male      10787\n",
       "linux             Female       84\n",
       "                  Male       1037\n",
       "mac               Female     5224\n",
       "                  Male       3256\n",
       "other             Female     2728\n",
       "                  Male       1681\n",
       "windows           Female    18285\n",
       "                  Male      11107\n",
       "Name: user_id, dtype: int64"
      ]
     },
     "execution_count": 32,
     "metadata": {},
     "output_type": "execute_result"
    }
   ],
   "source": [
    "user_full.groupby(['operative_system','sex'])['user_id'].count()"
   ]
  },
  {
   "cell_type": "code",
   "execution_count": 33,
   "id": "9ec863c8",
   "metadata": {},
   "outputs": [],
   "source": [
    "##  fill the null value of sex\n",
    "user_info['sex'] = np.where((user_info['sex'].isnull())&(user_info['operative_system']=='linux'),'Male',user_info['sex'])"
   ]
  },
  {
   "cell_type": "code",
   "execution_count": 34,
   "id": "0b97678c",
   "metadata": {},
   "outputs": [],
   "source": [
    "user_info['sex'].fillna('Female',inplace = True)"
   ]
  },
  {
   "cell_type": "code",
   "execution_count": 35,
   "id": "f98c4719",
   "metadata": {},
   "outputs": [
    {
     "data": {
      "text/plain": [
       "user_id                  0\n",
       "new_user                 0\n",
       "age                      0\n",
       "sex                      0\n",
       "market                   0\n",
       "device                   0\n",
       "operative_system       217\n",
       "source                   0\n",
       "total_pages_visited      0\n",
       "home_page                0\n",
       "listing_page             0\n",
       "product_page             0\n",
       "payment_page             0\n",
       "confirmation_page        0\n",
       "dtype: int64"
      ]
     },
     "execution_count": 35,
     "metadata": {},
     "output_type": "execute_result"
    }
   ],
   "source": [
    "user_info.isnull().sum()"
   ]
  },
  {
   "cell_type": "markdown",
   "id": "6c7a4c49",
   "metadata": {},
   "source": [
    "### operative system"
   ]
  },
  {
   "cell_type": "code",
   "execution_count": 36,
   "id": "f72180c2",
   "metadata": {},
   "outputs": [
    {
     "data": {
      "text/plain": [
       "user_id                0\n",
       "new_user               0\n",
       "age                    0\n",
       "sex                    0\n",
       "market                 0\n",
       "device                 0\n",
       "operative_system       0\n",
       "source                 0\n",
       "total_pages_visited    0\n",
       "home_page              0\n",
       "listing_page           0\n",
       "product_page           0\n",
       "payment_page           0\n",
       "confirmation_page      0\n",
       "dtype: int64"
      ]
     },
     "execution_count": 36,
     "metadata": {},
     "output_type": "execute_result"
    }
   ],
   "source": [
    "user_info.dropna(subset=['operative_system'], inplace=True)\n",
    "user_info.isnull().sum()"
   ]
  },
  {
   "cell_type": "markdown",
   "id": "31dd946c",
   "metadata": {},
   "source": [
    "## Consistency Analysis\n",
    "In the data mining process, inconsistent data generation mainly occurs in the data integration process, which may be caused by the data coming from different data sources and the failure to update the consistency of duplicate data storage  \n",
    "\n",
    "Feature construction: manually constructing new features from the original data  \n",
    "The common methods of feature construction are sum and difference quotient  \n",
    "  \n",
    "Feature processing.  \n",
    "1. continuous: no processing, normalization, standardization, etc.  \n",
    "2. categorical: OneHotEncoder  \n",
    "3. ordinal: LabelEncoder label encoding"
   ]
  },
  {
   "cell_type": "markdown",
   "id": "c423b65d",
   "metadata": {},
   "source": [
    "# Feature Enginnering\n",
    "## Features for Funnel analysis\n",
    "If the GMV drops due to a decrease in conversion rate, use the funnel analysis method to find out which pages the users have gone through in the path from entering the platform to finally completing the purchase, there will be a certain degree of user churn on different pages."
   ]
  },
  {
   "cell_type": "code",
   "execution_count": 37,
   "id": "4967650e",
   "metadata": {},
   "outputs": [
    {
     "name": "stdout",
     "output_type": "stream",
     "text": [
      "73729\n",
      "99781\n",
      "49506\n",
      "73729\n",
      "6848\n",
      "49506\n",
      "2401\n",
      "6848\n"
     ]
    }
   ],
   "source": [
    "convertion = []\n",
    "\n",
    "page = ['home_page','listing_page','product_page','payment_page','confirmation_page']\n",
    "\n",
    "for col in range(len(page)-1):\n",
    "    print(user_info[page[col+1]].sum())\n",
    "    print(user_info[page[col]].sum())\n",
    "    convertion.append(user_info[page[col+1]].sum()/user_info[page[col]].sum())"
   ]
  },
  {
   "cell_type": "code",
   "execution_count": 38,
   "id": "162e676d",
   "metadata": {},
   "outputs": [
    {
     "data": {
      "text/plain": [
       "[0.7389082089776611,\n",
       " 0.6714589917128945,\n",
       " 0.13832666747464953,\n",
       " 0.3506133177570093]"
      ]
     },
     "execution_count": 38,
     "metadata": {},
     "output_type": "execute_result"
    }
   ],
   "source": [
    "convertion"
   ]
  },
  {
   "cell_type": "code",
   "execution_count": 39,
   "id": "ef0aa218",
   "metadata": {},
   "outputs": [],
   "source": [
    "list = ['home_page-listing_page','listing_page-product_page','product_page-payment_page','payment_page-confirmation_page']"
   ]
  },
  {
   "cell_type": "code",
   "execution_count": 40,
   "id": "d07a3ba7",
   "metadata": {},
   "outputs": [
    {
     "data": {
      "text/plain": [
       "[('home_page-listing_page', 0.7389082089776611),\n",
       " ('listing_page-product_page', 0.6714589917128945),\n",
       " ('product_page-payment_page', 0.13832666747464953),\n",
       " ('payment_page-confirmation_page', 0.3506133177570093)]"
      ]
     },
     "execution_count": 40,
     "metadata": {},
     "output_type": "execute_result"
    }
   ],
   "source": [
    "[* zip (list,convertion)]"
   ]
  },
  {
   "cell_type": "code",
   "execution_count": 41,
   "id": "fd741440",
   "metadata": {},
   "outputs": [
    {
     "data": {
      "text/html": [
       "<div>\n",
       "<style scoped>\n",
       "    .dataframe tbody tr th:only-of-type {\n",
       "        vertical-align: middle;\n",
       "    }\n",
       "\n",
       "    .dataframe tbody tr th {\n",
       "        vertical-align: top;\n",
       "    }\n",
       "\n",
       "    .dataframe thead th {\n",
       "        text-align: right;\n",
       "    }\n",
       "</style>\n",
       "<table border=\"1\" class=\"dataframe\">\n",
       "  <thead>\n",
       "    <tr style=\"text-align: right;\">\n",
       "      <th></th>\n",
       "      <th>flow</th>\n",
       "      <th>convertion</th>\n",
       "    </tr>\n",
       "  </thead>\n",
       "  <tbody>\n",
       "    <tr>\n",
       "      <th>0</th>\n",
       "      <td>home_page-listing_page</td>\n",
       "      <td>0.738908</td>\n",
       "    </tr>\n",
       "    <tr>\n",
       "      <th>1</th>\n",
       "      <td>listing_page-product_page</td>\n",
       "      <td>0.671459</td>\n",
       "    </tr>\n",
       "    <tr>\n",
       "      <th>2</th>\n",
       "      <td>product_page-payment_page</td>\n",
       "      <td>0.138327</td>\n",
       "    </tr>\n",
       "    <tr>\n",
       "      <th>3</th>\n",
       "      <td>payment_page-confirmation_page</td>\n",
       "      <td>0.350613</td>\n",
       "    </tr>\n",
       "  </tbody>\n",
       "</table>\n",
       "</div>"
      ],
      "text/plain": [
       "                             flow  convertion\n",
       "0          home_page-listing_page    0.738908\n",
       "1       listing_page-product_page    0.671459\n",
       "2       product_page-payment_page    0.138327\n",
       "3  payment_page-confirmation_page    0.350613"
      ]
     },
     "execution_count": 41,
     "metadata": {},
     "output_type": "execute_result"
    }
   ],
   "source": [
    "funnel = pd.DataFrame([* zip (list,convertion)]).rename(columns = {0:'flow',1:'convertion'})\n",
    "funnel"
   ]
  },
  {
   "cell_type": "code",
   "execution_count": 94,
   "id": "03a4e565",
   "metadata": {},
   "outputs": [
    {
     "data": {
      "text/plain": [
       "0.02406269730710255"
      ]
     },
     "execution_count": 94,
     "metadata": {},
     "output_type": "execute_result"
    }
   ],
   "source": [
    "overall_convertion = 1\n",
    "for i in convertion:\n",
    "    overall_convertion = overall_convertion * i\n",
    "\n",
    "overall_convertion    "
   ]
  },
  {
   "cell_type": "code",
   "execution_count": 42,
   "id": "7fbe2d66",
   "metadata": {},
   "outputs": [
    {
     "data": {
      "image/png": "[encoded data removed]",
      "text/plain": [
       "<Figure size 800x600 with 1 Axes>"
      ]
     },
     "metadata": {},
     "output_type": "display_data"
    }
   ],
   "source": [
    "plt.figure(figsize = (8,6))\n",
    "\n",
    "g = sns.barplot(x = 'flow',y = 'convertion',data = funnel)\n",
    "\n",
    "for index, row in funnel.iterrows():\n",
    "    g.text(row.name, row.convertion, round(row.convertion,3),color = 'black',ha = 'center')\n",
    "\n",
    "\n",
    "plt.ylabel('convertion rate')\n",
    "plt.show()"
   ]
  },
  {
   "cell_type": "markdown",
   "id": "2f16770d",
   "metadata": {},
   "source": [
    "### Funnel Analysis: Gender"
   ]
  },
  {
   "cell_type": "code",
   "execution_count": 43,
   "id": "be22776a",
   "metadata": {},
   "outputs": [
    {
     "data": {
      "text/html": [
       "<div>\n",
       "<style scoped>\n",
       "    .dataframe tbody tr th:only-of-type {\n",
       "        vertical-align: middle;\n",
       "    }\n",
       "\n",
       "    .dataframe tbody tr th {\n",
       "        vertical-align: top;\n",
       "    }\n",
       "\n",
       "    .dataframe thead th {\n",
       "        text-align: right;\n",
       "    }\n",
       "</style>\n",
       "<table border=\"1\" class=\"dataframe\">\n",
       "  <thead>\n",
       "    <tr style=\"text-align: right;\">\n",
       "      <th></th>\n",
       "      <th>home_page</th>\n",
       "      <th>listing_page</th>\n",
       "      <th>product_page</th>\n",
       "      <th>payment_page</th>\n",
       "      <th>confirmation_page</th>\n",
       "    </tr>\n",
       "    <tr>\n",
       "      <th>sex</th>\n",
       "      <th></th>\n",
       "      <th></th>\n",
       "      <th></th>\n",
       "      <th></th>\n",
       "      <th></th>\n",
       "    </tr>\n",
       "  </thead>\n",
       "  <tbody>\n",
       "    <tr>\n",
       "      <th>Female</th>\n",
       "      <td>61124</td>\n",
       "      <td>45389</td>\n",
       "      <td>30721</td>\n",
       "      <td>4634</td>\n",
       "      <td>1842</td>\n",
       "    </tr>\n",
       "    <tr>\n",
       "      <th>Male</th>\n",
       "      <td>38657</td>\n",
       "      <td>28340</td>\n",
       "      <td>18785</td>\n",
       "      <td>2214</td>\n",
       "      <td>559</td>\n",
       "    </tr>\n",
       "  </tbody>\n",
       "</table>\n",
       "</div>"
      ],
      "text/plain": [
       "        home_page  listing_page  product_page  payment_page  confirmation_page\n",
       "sex                                                                           \n",
       "Female      61124         45389         30721          4634               1842\n",
       "Male        38657         28340         18785          2214                559"
      ]
     },
     "execution_count": 43,
     "metadata": {},
     "output_type": "execute_result"
    }
   ],
   "source": [
    "sex_funnel = user_info.groupby(['sex'])['home_page','listing_page','product_page','payment_page','confirmation_page'].sum()\n",
    "sex_funnel"
   ]
  },
  {
   "cell_type": "code",
   "execution_count": 44,
   "id": "6d795c15",
   "metadata": {},
   "outputs": [],
   "source": [
    "sex_convertion = []\n",
    "\n",
    "page = ['home_page','listing_page','product_page','payment_page','confirmation_page']\n",
    "\n",
    "for i in range(len(sex_funnel.index)):\n",
    "    for col in range(len(page)-1):\n",
    "        sex_convertion.append(sex_funnel[page[col+1]][i].sum()/sex_funnel[page[col]][i].sum())\n",
    "        "
   ]
  },
  {
   "cell_type": "code",
   "execution_count": 45,
   "id": "c4f2b318",
   "metadata": {},
   "outputs": [
    {
     "data": {
      "text/plain": [
       "[0.7425724756233231,\n",
       " 0.6768380003965718,\n",
       " 0.15084144396341265,\n",
       " 0.39749676305567544,\n",
       " 0.7331143130610239,\n",
       " 0.6628440366972477,\n",
       " 0.11785999467660367,\n",
       " 0.25248419150858176]"
      ]
     },
     "execution_count": 45,
     "metadata": {},
     "output_type": "execute_result"
    }
   ],
   "source": [
    "sex_convertion"
   ]
  },
  {
   "cell_type": "code",
   "execution_count": 46,
   "id": "d680a612",
   "metadata": {},
   "outputs": [],
   "source": [
    "s = ['Female']*4 + ['Male']* 4"
   ]
  },
  {
   "cell_type": "code",
   "execution_count": 47,
   "id": "66e7a89f",
   "metadata": {},
   "outputs": [
    {
     "data": {
      "text/plain": [
       "[('Female', 'home_page-listing_page', 0.7425724756233231),\n",
       " ('Female', 'listing_page-product_page', 0.6768380003965718),\n",
       " ('Female', 'product_page-payment_page', 0.15084144396341265),\n",
       " ('Female', 'payment_page-confirmation_page', 0.39749676305567544),\n",
       " ('Male', 'home_page-listing_page', 0.7331143130610239),\n",
       " ('Male', 'listing_page-product_page', 0.6628440366972477),\n",
       " ('Male', 'product_page-payment_page', 0.11785999467660367),\n",
       " ('Male', 'payment_page-confirmation_page', 0.25248419150858176)]"
      ]
     },
     "execution_count": 47,
     "metadata": {},
     "output_type": "execute_result"
    }
   ],
   "source": [
    "[*zip(s,list*2,sex_convertion)]"
   ]
  },
  {
   "cell_type": "code",
   "execution_count": 48,
   "id": "08078fca",
   "metadata": {
    "scrolled": true
   },
   "outputs": [
    {
     "data": {
      "text/html": [
       "<div>\n",
       "<style scoped>\n",
       "    .dataframe tbody tr th:only-of-type {\n",
       "        vertical-align: middle;\n",
       "    }\n",
       "\n",
       "    .dataframe tbody tr th {\n",
       "        vertical-align: top;\n",
       "    }\n",
       "\n",
       "    .dataframe thead th {\n",
       "        text-align: right;\n",
       "    }\n",
       "</style>\n",
       "<table border=\"1\" class=\"dataframe\">\n",
       "  <thead>\n",
       "    <tr style=\"text-align: right;\">\n",
       "      <th></th>\n",
       "      <th>sex</th>\n",
       "      <th>flow</th>\n",
       "      <th>sex_convertion</th>\n",
       "    </tr>\n",
       "  </thead>\n",
       "  <tbody>\n",
       "    <tr>\n",
       "      <th>0</th>\n",
       "      <td>Female</td>\n",
       "      <td>home_page-listing_page</td>\n",
       "      <td>0.742572</td>\n",
       "    </tr>\n",
       "    <tr>\n",
       "      <th>1</th>\n",
       "      <td>Female</td>\n",
       "      <td>listing_page-product_page</td>\n",
       "      <td>0.676838</td>\n",
       "    </tr>\n",
       "    <tr>\n",
       "      <th>2</th>\n",
       "      <td>Female</td>\n",
       "      <td>product_page-payment_page</td>\n",
       "      <td>0.150841</td>\n",
       "    </tr>\n",
       "    <tr>\n",
       "      <th>3</th>\n",
       "      <td>Female</td>\n",
       "      <td>payment_page-confirmation_page</td>\n",
       "      <td>0.397497</td>\n",
       "    </tr>\n",
       "    <tr>\n",
       "      <th>4</th>\n",
       "      <td>Male</td>\n",
       "      <td>home_page-listing_page</td>\n",
       "      <td>0.733114</td>\n",
       "    </tr>\n",
       "    <tr>\n",
       "      <th>5</th>\n",
       "      <td>Male</td>\n",
       "      <td>listing_page-product_page</td>\n",
       "      <td>0.662844</td>\n",
       "    </tr>\n",
       "    <tr>\n",
       "      <th>6</th>\n",
       "      <td>Male</td>\n",
       "      <td>product_page-payment_page</td>\n",
       "      <td>0.117860</td>\n",
       "    </tr>\n",
       "    <tr>\n",
       "      <th>7</th>\n",
       "      <td>Male</td>\n",
       "      <td>payment_page-confirmation_page</td>\n",
       "      <td>0.252484</td>\n",
       "    </tr>\n",
       "  </tbody>\n",
       "</table>\n",
       "</div>"
      ],
      "text/plain": [
       "      sex                            flow  sex_convertion\n",
       "0  Female          home_page-listing_page        0.742572\n",
       "1  Female       listing_page-product_page        0.676838\n",
       "2  Female       product_page-payment_page        0.150841\n",
       "3  Female  payment_page-confirmation_page        0.397497\n",
       "4    Male          home_page-listing_page        0.733114\n",
       "5    Male       listing_page-product_page        0.662844\n",
       "6    Male       product_page-payment_page        0.117860\n",
       "7    Male  payment_page-confirmation_page        0.252484"
      ]
     },
     "execution_count": 48,
     "metadata": {},
     "output_type": "execute_result"
    }
   ],
   "source": [
    "sex_funnel = pd.DataFrame([*zip(s,list*2,sex_convertion)]).rename(columns = {0:'sex',1:'flow',2:'sex_convertion'})\n",
    "sex_funnel"
   ]
  },
  {
   "cell_type": "code",
   "execution_count": 49,
   "id": "a3abd1e0",
   "metadata": {},
   "outputs": [
    {
     "data": {
      "image/png": "[encoded data removed]",
      "text/plain": [
       "<Figure size 800x400 with 1 Axes>"
      ]
     },
     "metadata": {},
     "output_type": "display_data"
    }
   ],
   "source": [
    "plt.figure(figsize = (8,4))\n",
    "\n",
    "sns.barplot(x = 'sex_convertion',y='flow',hue = 'sex', data = sex_funnel)\n",
    "\n",
    "plt.show()\n",
    "\n",
    "## Female perform better than male, maybe promote more female oritation products?"
   ]
  },
  {
   "cell_type": "markdown",
   "id": "990f6a3e",
   "metadata": {},
   "source": [
    "### Funnel Analysis: Device "
   ]
  },
  {
   "cell_type": "code",
   "execution_count": 50,
   "id": "0cfd4973",
   "metadata": {},
   "outputs": [
    {
     "data": {
      "text/html": [
       "<div>\n",
       "<style scoped>\n",
       "    .dataframe tbody tr th:only-of-type {\n",
       "        vertical-align: middle;\n",
       "    }\n",
       "\n",
       "    .dataframe tbody tr th {\n",
       "        vertical-align: top;\n",
       "    }\n",
       "\n",
       "    .dataframe thead th {\n",
       "        text-align: right;\n",
       "    }\n",
       "</style>\n",
       "<table border=\"1\" class=\"dataframe\">\n",
       "  <thead>\n",
       "    <tr style=\"text-align: right;\">\n",
       "      <th></th>\n",
       "      <th>home_page</th>\n",
       "      <th>listing_page</th>\n",
       "      <th>product_page</th>\n",
       "      <th>payment_page</th>\n",
       "      <th>confirmation_page</th>\n",
       "    </tr>\n",
       "    <tr>\n",
       "      <th>device</th>\n",
       "      <th></th>\n",
       "      <th></th>\n",
       "      <th></th>\n",
       "      <th></th>\n",
       "      <th></th>\n",
       "    </tr>\n",
       "  </thead>\n",
       "  <tbody>\n",
       "    <tr>\n",
       "      <th>desktop</th>\n",
       "      <td>39477</td>\n",
       "      <td>29039</td>\n",
       "      <td>19635</td>\n",
       "      <td>2748</td>\n",
       "      <td>1030</td>\n",
       "    </tr>\n",
       "    <tr>\n",
       "      <th>mobile</th>\n",
       "      <td>60304</td>\n",
       "      <td>44690</td>\n",
       "      <td>29871</td>\n",
       "      <td>4100</td>\n",
       "      <td>1371</td>\n",
       "    </tr>\n",
       "  </tbody>\n",
       "</table>\n",
       "</div>"
      ],
      "text/plain": [
       "         home_page  listing_page  product_page  payment_page  \\\n",
       "device                                                         \n",
       "desktop      39477         29039         19635          2748   \n",
       "mobile       60304         44690         29871          4100   \n",
       "\n",
       "         confirmation_page  \n",
       "device                      \n",
       "desktop               1030  \n",
       "mobile                1371  "
      ]
     },
     "execution_count": 50,
     "metadata": {},
     "output_type": "execute_result"
    }
   ],
   "source": [
    "device_funnel = user_info.groupby(['device'])['home_page','listing_page','product_page','payment_page','confirmation_page'].sum()\n",
    "device_funnel"
   ]
  },
  {
   "cell_type": "code",
   "execution_count": 51,
   "id": "19500027",
   "metadata": {},
   "outputs": [
    {
     "name": "stdout",
     "output_type": "stream",
     "text": [
      "Index(['desktop', 'mobile'], dtype='object', name='device')\n",
      "Index(['home_page', 'listing_page', 'product_page', 'payment_page',\n",
      "       'confirmation_page'],\n",
      "      dtype='object')\n"
     ]
    }
   ],
   "source": [
    "print(device_funnel.index)\n",
    "print(device_funnel.columns)"
   ]
  },
  {
   "cell_type": "code",
   "execution_count": 52,
   "id": "cfe67c64",
   "metadata": {},
   "outputs": [],
   "source": [
    "device_convertion = []\n",
    "\n",
    "page = ['home_page','listing_page','product_page','payment_page','confirmation_page']\n",
    "\n",
    "for i in range(len(device_funnel.index)):\n",
    "    for col in range(len(page)-1):\n",
    "        device_convertion.append(device_funnel[page[col+1]][i].sum()/device_funnel[page[col]][i].sum())\n",
    "        "
   ]
  },
  {
   "cell_type": "code",
   "execution_count": 53,
   "id": "7b10032c",
   "metadata": {
    "scrolled": true
   },
   "outputs": [
    {
     "data": {
      "text/plain": [
       "[0.73559287686501,\n",
       " 0.6761596473707773,\n",
       " 0.13995416348357526,\n",
       " 0.3748180494905386,\n",
       " 0.7410785354205359,\n",
       " 0.6684045647795928,\n",
       " 0.13725687121288205,\n",
       " 0.33439024390243904]"
      ]
     },
     "execution_count": 53,
     "metadata": {},
     "output_type": "execute_result"
    }
   ],
   "source": [
    "device_convertion"
   ]
  },
  {
   "cell_type": "code",
   "execution_count": 54,
   "id": "137fc460",
   "metadata": {},
   "outputs": [],
   "source": [
    "d = ['desktop']*4 + ['mobile']* 4"
   ]
  },
  {
   "cell_type": "code",
   "execution_count": 55,
   "id": "cd37ffce",
   "metadata": {},
   "outputs": [
    {
     "data": {
      "text/plain": [
       "[('desktop', 'home_page-listing_page', 0.73559287686501),\n",
       " ('desktop', 'listing_page-product_page', 0.6761596473707773),\n",
       " ('desktop', 'product_page-payment_page', 0.13995416348357526),\n",
       " ('desktop', 'payment_page-confirmation_page', 0.3748180494905386),\n",
       " ('mobile', 'home_page-listing_page', 0.7410785354205359),\n",
       " ('mobile', 'listing_page-product_page', 0.6684045647795928),\n",
       " ('mobile', 'product_page-payment_page', 0.13725687121288205),\n",
       " ('mobile', 'payment_page-confirmation_page', 0.33439024390243904)]"
      ]
     },
     "execution_count": 55,
     "metadata": {},
     "output_type": "execute_result"
    }
   ],
   "source": [
    "[*zip(d,list*2,device_convertion)]"
   ]
  },
  {
   "cell_type": "code",
   "execution_count": 56,
   "id": "393db262",
   "metadata": {},
   "outputs": [
    {
     "data": {
      "text/html": [
       "<div>\n",
       "<style scoped>\n",
       "    .dataframe tbody tr th:only-of-type {\n",
       "        vertical-align: middle;\n",
       "    }\n",
       "\n",
       "    .dataframe tbody tr th {\n",
       "        vertical-align: top;\n",
       "    }\n",
       "\n",
       "    .dataframe thead th {\n",
       "        text-align: right;\n",
       "    }\n",
       "</style>\n",
       "<table border=\"1\" class=\"dataframe\">\n",
       "  <thead>\n",
       "    <tr style=\"text-align: right;\">\n",
       "      <th></th>\n",
       "      <th>device</th>\n",
       "      <th>flow</th>\n",
       "      <th>device_convertion</th>\n",
       "    </tr>\n",
       "  </thead>\n",
       "  <tbody>\n",
       "    <tr>\n",
       "      <th>0</th>\n",
       "      <td>desktop</td>\n",
       "      <td>home_page-listing_page</td>\n",
       "      <td>0.735593</td>\n",
       "    </tr>\n",
       "    <tr>\n",
       "      <th>1</th>\n",
       "      <td>desktop</td>\n",
       "      <td>listing_page-product_page</td>\n",
       "      <td>0.676160</td>\n",
       "    </tr>\n",
       "    <tr>\n",
       "      <th>2</th>\n",
       "      <td>desktop</td>\n",
       "      <td>product_page-payment_page</td>\n",
       "      <td>0.139954</td>\n",
       "    </tr>\n",
       "    <tr>\n",
       "      <th>3</th>\n",
       "      <td>desktop</td>\n",
       "      <td>payment_page-confirmation_page</td>\n",
       "      <td>0.374818</td>\n",
       "    </tr>\n",
       "    <tr>\n",
       "      <th>4</th>\n",
       "      <td>mobile</td>\n",
       "      <td>home_page-listing_page</td>\n",
       "      <td>0.741079</td>\n",
       "    </tr>\n",
       "    <tr>\n",
       "      <th>5</th>\n",
       "      <td>mobile</td>\n",
       "      <td>listing_page-product_page</td>\n",
       "      <td>0.668405</td>\n",
       "    </tr>\n",
       "    <tr>\n",
       "      <th>6</th>\n",
       "      <td>mobile</td>\n",
       "      <td>product_page-payment_page</td>\n",
       "      <td>0.137257</td>\n",
       "    </tr>\n",
       "    <tr>\n",
       "      <th>7</th>\n",
       "      <td>mobile</td>\n",
       "      <td>payment_page-confirmation_page</td>\n",
       "      <td>0.334390</td>\n",
       "    </tr>\n",
       "  </tbody>\n",
       "</table>\n",
       "</div>"
      ],
      "text/plain": [
       "    device                            flow  device_convertion\n",
       "0  desktop          home_page-listing_page           0.735593\n",
       "1  desktop       listing_page-product_page           0.676160\n",
       "2  desktop       product_page-payment_page           0.139954\n",
       "3  desktop  payment_page-confirmation_page           0.374818\n",
       "4   mobile          home_page-listing_page           0.741079\n",
       "5   mobile       listing_page-product_page           0.668405\n",
       "6   mobile       product_page-payment_page           0.137257\n",
       "7   mobile  payment_page-confirmation_page           0.334390"
      ]
     },
     "execution_count": 56,
     "metadata": {},
     "output_type": "execute_result"
    }
   ],
   "source": [
    "device_funnel = pd.DataFrame([*zip(d,list*2,device_convertion)]).rename(columns = {0:'device',1:'flow',2:'device_convertion'})\n",
    "device_funnel"
   ]
  },
  {
   "cell_type": "code",
   "execution_count": 57,
   "id": "0d52a5c4",
   "metadata": {},
   "outputs": [
    {
     "data": {
      "image/png": "[encoded data removed]",
      "text/plain": [
       "<Figure size 800x400 with 1 Axes>"
      ]
     },
     "metadata": {},
     "output_type": "display_data"
    }
   ],
   "source": [
    "plt.figure(figsize = (8,4))\n",
    "\n",
    "sns.barplot(x = 'device_convertion',y='flow',hue = 'device', data = device_funnel)\n",
    "\n",
    "plt.show()\n",
    "\n",
    "## desktop users perform better than mobile, check the mobile system page"
   ]
  },
  {
   "cell_type": "markdown",
   "id": "dcadae51",
   "metadata": {},
   "source": [
    "### Funnel Analysis: market"
   ]
  },
  {
   "cell_type": "code",
   "execution_count": 58,
   "id": "f9c02820",
   "metadata": {},
   "outputs": [
    {
     "data": {
      "text/html": [
       "<div>\n",
       "<style scoped>\n",
       "    .dataframe tbody tr th:only-of-type {\n",
       "        vertical-align: middle;\n",
       "    }\n",
       "\n",
       "    .dataframe tbody tr th {\n",
       "        vertical-align: top;\n",
       "    }\n",
       "\n",
       "    .dataframe thead th {\n",
       "        text-align: right;\n",
       "    }\n",
       "</style>\n",
       "<table border=\"1\" class=\"dataframe\">\n",
       "  <thead>\n",
       "    <tr style=\"text-align: right;\">\n",
       "      <th></th>\n",
       "      <th>market</th>\n",
       "      <th>home_page</th>\n",
       "      <th>listing_page</th>\n",
       "      <th>product_page</th>\n",
       "      <th>payment_page</th>\n",
       "      <th>confirmation_page</th>\n",
       "    </tr>\n",
       "  </thead>\n",
       "  <tbody>\n",
       "    <tr>\n",
       "      <th>0</th>\n",
       "      <td>1</td>\n",
       "      <td>57976</td>\n",
       "      <td>43600</td>\n",
       "      <td>29308</td>\n",
       "      <td>4044</td>\n",
       "      <td>1421</td>\n",
       "    </tr>\n",
       "    <tr>\n",
       "      <th>1</th>\n",
       "      <td>2</td>\n",
       "      <td>17745</td>\n",
       "      <td>13535</td>\n",
       "      <td>9081</td>\n",
       "      <td>1286</td>\n",
       "      <td>473</td>\n",
       "    </tr>\n",
       "    <tr>\n",
       "      <th>2</th>\n",
       "      <td>3</td>\n",
       "      <td>17847</td>\n",
       "      <td>11659</td>\n",
       "      <td>7652</td>\n",
       "      <td>1000</td>\n",
       "      <td>308</td>\n",
       "    </tr>\n",
       "    <tr>\n",
       "      <th>3</th>\n",
       "      <td>4</td>\n",
       "      <td>6213</td>\n",
       "      <td>4935</td>\n",
       "      <td>3465</td>\n",
       "      <td>518</td>\n",
       "      <td>199</td>\n",
       "    </tr>\n",
       "  </tbody>\n",
       "</table>\n",
       "</div>"
      ],
      "text/plain": [
       "   market  home_page  listing_page  product_page  payment_page  \\\n",
       "0       1      57976         43600         29308          4044   \n",
       "1       2      17745         13535          9081          1286   \n",
       "2       3      17847         11659          7652          1000   \n",
       "3       4       6213          4935          3465           518   \n",
       "\n",
       "   confirmation_page  \n",
       "0               1421  \n",
       "1                473  \n",
       "2                308  \n",
       "3                199  "
      ]
     },
     "execution_count": 58,
     "metadata": {},
     "output_type": "execute_result"
    }
   ],
   "source": [
    "market_funnel = user_info.groupby(['market'])['home_page','listing_page','product_page','payment_page','confirmation_page'].sum().reset_index()\n",
    "market_funnel"
   ]
  },
  {
   "cell_type": "code",
   "execution_count": 59,
   "id": "841d25e5",
   "metadata": {},
   "outputs": [
    {
     "name": "stdout",
     "output_type": "stream",
     "text": [
      "RangeIndex(start=0, stop=4, step=1)\n",
      "Index(['market', 'home_page', 'listing_page', 'product_page', 'payment_page',\n",
      "       'confirmation_page'],\n",
      "      dtype='object')\n"
     ]
    }
   ],
   "source": [
    "print(market_funnel.index)\n",
    "print(market_funnel.columns)"
   ]
  },
  {
   "cell_type": "code",
   "execution_count": 60,
   "id": "1312d90c",
   "metadata": {},
   "outputs": [],
   "source": [
    "market_convertion = []\n",
    "\n",
    "page = ['home_page','listing_page','product_page','payment_page','confirmation_page']\n",
    "\n",
    "for i in range(len(market_funnel.index)):\n",
    "    for col in range(len(page)-1):\n",
    "        market_convertion.append(market_funnel[page[col+1]][i].sum()/market_funnel[page[col]][i].sum())\n",
    "   "
   ]
  },
  {
   "cell_type": "code",
   "execution_count": 61,
   "id": "29bcf840",
   "metadata": {},
   "outputs": [
    {
     "data": {
      "text/plain": [
       "[0.7520353249620533,\n",
       " 0.6722018348623853,\n",
       " 0.13798280333014876,\n",
       " 0.35138476755687437,\n",
       " 0.7627500704423781,\n",
       " 0.6709272257111193,\n",
       " 0.1416143596520207,\n",
       " 0.3678071539657854,\n",
       " 0.653275060234213,\n",
       " 0.6563170083197529,\n",
       " 0.13068478829064298,\n",
       " 0.308,\n",
       " 0.7943022694350556,\n",
       " 0.7021276595744681,\n",
       " 0.1494949494949495,\n",
       " 0.3841698841698842]"
      ]
     },
     "execution_count": 61,
     "metadata": {},
     "output_type": "execute_result"
    }
   ],
   "source": [
    "market_convertion"
   ]
  },
  {
   "cell_type": "code",
   "execution_count": 62,
   "id": "aa447286",
   "metadata": {},
   "outputs": [],
   "source": [
    "m = ['1']*4 + ['2']* 4 +['3']*4 + ['4']* 4"
   ]
  },
  {
   "cell_type": "code",
   "execution_count": 63,
   "id": "c205f787",
   "metadata": {},
   "outputs": [
    {
     "data": {
      "text/plain": [
       "[('1', 'home_page-listing_page', 0.7520353249620533),\n",
       " ('1', 'listing_page-product_page', 0.6722018348623853),\n",
       " ('1', 'product_page-payment_page', 0.13798280333014876),\n",
       " ('1', 'payment_page-confirmation_page', 0.35138476755687437),\n",
       " ('2', 'home_page-listing_page', 0.7627500704423781),\n",
       " ('2', 'listing_page-product_page', 0.6709272257111193),\n",
       " ('2', 'product_page-payment_page', 0.1416143596520207),\n",
       " ('2', 'payment_page-confirmation_page', 0.3678071539657854),\n",
       " ('3', 'home_page-listing_page', 0.653275060234213),\n",
       " ('3', 'listing_page-product_page', 0.6563170083197529),\n",
       " ('3', 'product_page-payment_page', 0.13068478829064298),\n",
       " ('3', 'payment_page-confirmation_page', 0.308),\n",
       " ('4', 'home_page-listing_page', 0.7943022694350556),\n",
       " ('4', 'listing_page-product_page', 0.7021276595744681),\n",
       " ('4', 'product_page-payment_page', 0.1494949494949495),\n",
       " ('4', 'payment_page-confirmation_page', 0.3841698841698842)]"
      ]
     },
     "execution_count": 63,
     "metadata": {},
     "output_type": "execute_result"
    }
   ],
   "source": [
    "[*zip(m,list*4,market_convertion)]"
   ]
  },
  {
   "cell_type": "code",
   "execution_count": 64,
   "id": "edefe23b",
   "metadata": {},
   "outputs": [
    {
     "data": {
      "text/html": [
       "<div>\n",
       "<style scoped>\n",
       "    .dataframe tbody tr th:only-of-type {\n",
       "        vertical-align: middle;\n",
       "    }\n",
       "\n",
       "    .dataframe tbody tr th {\n",
       "        vertical-align: top;\n",
       "    }\n",
       "\n",
       "    .dataframe thead th {\n",
       "        text-align: right;\n",
       "    }\n",
       "</style>\n",
       "<table border=\"1\" class=\"dataframe\">\n",
       "  <thead>\n",
       "    <tr style=\"text-align: right;\">\n",
       "      <th></th>\n",
       "      <th>market</th>\n",
       "      <th>flow</th>\n",
       "      <th>market_convertion</th>\n",
       "    </tr>\n",
       "  </thead>\n",
       "  <tbody>\n",
       "    <tr>\n",
       "      <th>0</th>\n",
       "      <td>1</td>\n",
       "      <td>home_page-listing_page</td>\n",
       "      <td>0.752035</td>\n",
       "    </tr>\n",
       "    <tr>\n",
       "      <th>1</th>\n",
       "      <td>1</td>\n",
       "      <td>listing_page-product_page</td>\n",
       "      <td>0.672202</td>\n",
       "    </tr>\n",
       "    <tr>\n",
       "      <th>2</th>\n",
       "      <td>1</td>\n",
       "      <td>product_page-payment_page</td>\n",
       "      <td>0.137983</td>\n",
       "    </tr>\n",
       "    <tr>\n",
       "      <th>3</th>\n",
       "      <td>1</td>\n",
       "      <td>payment_page-confirmation_page</td>\n",
       "      <td>0.351385</td>\n",
       "    </tr>\n",
       "    <tr>\n",
       "      <th>4</th>\n",
       "      <td>2</td>\n",
       "      <td>home_page-listing_page</td>\n",
       "      <td>0.762750</td>\n",
       "    </tr>\n",
       "    <tr>\n",
       "      <th>5</th>\n",
       "      <td>2</td>\n",
       "      <td>listing_page-product_page</td>\n",
       "      <td>0.670927</td>\n",
       "    </tr>\n",
       "    <tr>\n",
       "      <th>6</th>\n",
       "      <td>2</td>\n",
       "      <td>product_page-payment_page</td>\n",
       "      <td>0.141614</td>\n",
       "    </tr>\n",
       "    <tr>\n",
       "      <th>7</th>\n",
       "      <td>2</td>\n",
       "      <td>payment_page-confirmation_page</td>\n",
       "      <td>0.367807</td>\n",
       "    </tr>\n",
       "    <tr>\n",
       "      <th>8</th>\n",
       "      <td>3</td>\n",
       "      <td>home_page-listing_page</td>\n",
       "      <td>0.653275</td>\n",
       "    </tr>\n",
       "    <tr>\n",
       "      <th>9</th>\n",
       "      <td>3</td>\n",
       "      <td>listing_page-product_page</td>\n",
       "      <td>0.656317</td>\n",
       "    </tr>\n",
       "    <tr>\n",
       "      <th>10</th>\n",
       "      <td>3</td>\n",
       "      <td>product_page-payment_page</td>\n",
       "      <td>0.130685</td>\n",
       "    </tr>\n",
       "    <tr>\n",
       "      <th>11</th>\n",
       "      <td>3</td>\n",
       "      <td>payment_page-confirmation_page</td>\n",
       "      <td>0.308000</td>\n",
       "    </tr>\n",
       "    <tr>\n",
       "      <th>12</th>\n",
       "      <td>4</td>\n",
       "      <td>home_page-listing_page</td>\n",
       "      <td>0.794302</td>\n",
       "    </tr>\n",
       "    <tr>\n",
       "      <th>13</th>\n",
       "      <td>4</td>\n",
       "      <td>listing_page-product_page</td>\n",
       "      <td>0.702128</td>\n",
       "    </tr>\n",
       "    <tr>\n",
       "      <th>14</th>\n",
       "      <td>4</td>\n",
       "      <td>product_page-payment_page</td>\n",
       "      <td>0.149495</td>\n",
       "    </tr>\n",
       "    <tr>\n",
       "      <th>15</th>\n",
       "      <td>4</td>\n",
       "      <td>payment_page-confirmation_page</td>\n",
       "      <td>0.384170</td>\n",
       "    </tr>\n",
       "  </tbody>\n",
       "</table>\n",
       "</div>"
      ],
      "text/plain": [
       "   market                            flow  market_convertion\n",
       "0       1          home_page-listing_page           0.752035\n",
       "1       1       listing_page-product_page           0.672202\n",
       "2       1       product_page-payment_page           0.137983\n",
       "3       1  payment_page-confirmation_page           0.351385\n",
       "4       2          home_page-listing_page           0.762750\n",
       "5       2       listing_page-product_page           0.670927\n",
       "6       2       product_page-payment_page           0.141614\n",
       "7       2  payment_page-confirmation_page           0.367807\n",
       "8       3          home_page-listing_page           0.653275\n",
       "9       3       listing_page-product_page           0.656317\n",
       "10      3       product_page-payment_page           0.130685\n",
       "11      3  payment_page-confirmation_page           0.308000\n",
       "12      4          home_page-listing_page           0.794302\n",
       "13      4       listing_page-product_page           0.702128\n",
       "14      4       product_page-payment_page           0.149495\n",
       "15      4  payment_page-confirmation_page           0.384170"
      ]
     },
     "execution_count": 64,
     "metadata": {},
     "output_type": "execute_result"
    }
   ],
   "source": [
    "market_funnel = pd.DataFrame([*zip(m,list*4,market_convertion)]).rename(columns = {0:'market',1:'flow',2:'market_convertion'})\n",
    "market_funnel"
   ]
  },
  {
   "cell_type": "code",
   "execution_count": 65,
   "id": "76976495",
   "metadata": {},
   "outputs": [
    {
     "data": {
      "image/png": "[encoded data removed]",
      "text/plain": [
       "<Figure size 800x400 with 1 Axes>"
      ]
     },
     "metadata": {},
     "output_type": "display_data"
    }
   ],
   "source": [
    "plt.figure(figsize = (8,4))\n",
    "\n",
    "sns.barplot(x = 'market_convertion',y='flow',hue = 'market', data = market_funnel)\n",
    "\n",
    "plt.show()"
   ]
  },
  {
   "cell_type": "markdown",
   "id": "fa340a49",
   "metadata": {},
   "source": [
    "## Features for Modeling"
   ]
  },
  {
   "cell_type": "code",
   "execution_count": 66,
   "id": "c04953e8",
   "metadata": {},
   "outputs": [],
   "source": [
    "model_info = user_info.copy(deep = True)"
   ]
  },
  {
   "cell_type": "code",
   "execution_count": 67,
   "id": "cc97761d",
   "metadata": {},
   "outputs": [],
   "source": [
    "model_info['converted'] = model_info['confirmation_page']"
   ]
  },
  {
   "cell_type": "code",
   "execution_count": 68,
   "id": "d135e1d9",
   "metadata": {},
   "outputs": [
    {
     "data": {
      "text/html": [
       "<div>\n",
       "<style scoped>\n",
       "    .dataframe tbody tr th:only-of-type {\n",
       "        vertical-align: middle;\n",
       "    }\n",
       "\n",
       "    .dataframe tbody tr th {\n",
       "        vertical-align: top;\n",
       "    }\n",
       "\n",
       "    .dataframe thead th {\n",
       "        text-align: right;\n",
       "    }\n",
       "</style>\n",
       "<table border=\"1\" class=\"dataframe\">\n",
       "  <thead>\n",
       "    <tr style=\"text-align: right;\">\n",
       "      <th></th>\n",
       "      <th>user_id</th>\n",
       "      <th>new_user</th>\n",
       "      <th>age</th>\n",
       "      <th>sex</th>\n",
       "      <th>market</th>\n",
       "      <th>device</th>\n",
       "      <th>operative_system</th>\n",
       "      <th>source</th>\n",
       "      <th>total_pages_visited</th>\n",
       "      <th>home_page</th>\n",
       "      <th>listing_page</th>\n",
       "      <th>product_page</th>\n",
       "      <th>payment_page</th>\n",
       "      <th>confirmation_page</th>\n",
       "      <th>converted</th>\n",
       "    </tr>\n",
       "  </thead>\n",
       "  <tbody>\n",
       "    <tr>\n",
       "      <th>0</th>\n",
       "      <td>jd_4c330e6d48c42</td>\n",
       "      <td>0</td>\n",
       "      <td>17</td>\n",
       "      <td>Female</td>\n",
       "      <td>1</td>\n",
       "      <td>mobile</td>\n",
       "      <td>android</td>\n",
       "      <td>Direct</td>\n",
       "      <td>3</td>\n",
       "      <td>1</td>\n",
       "      <td>1</td>\n",
       "      <td>1</td>\n",
       "      <td>0</td>\n",
       "      <td>0</td>\n",
       "      <td>0</td>\n",
       "    </tr>\n",
       "    <tr>\n",
       "      <th>1</th>\n",
       "      <td>jd_4c32f441e139d</td>\n",
       "      <td>0</td>\n",
       "      <td>27</td>\n",
       "      <td>Male</td>\n",
       "      <td>2</td>\n",
       "      <td>mobile</td>\n",
       "      <td>iOS</td>\n",
       "      <td>Direct</td>\n",
       "      <td>5</td>\n",
       "      <td>1</td>\n",
       "      <td>0</td>\n",
       "      <td>0</td>\n",
       "      <td>0</td>\n",
       "      <td>0</td>\n",
       "      <td>0</td>\n",
       "    </tr>\n",
       "    <tr>\n",
       "      <th>2</th>\n",
       "      <td>jd_4c32a3701702f</td>\n",
       "      <td>0</td>\n",
       "      <td>24</td>\n",
       "      <td>Female</td>\n",
       "      <td>1</td>\n",
       "      <td>mobile</td>\n",
       "      <td>android</td>\n",
       "      <td>Seo</td>\n",
       "      <td>4</td>\n",
       "      <td>1</td>\n",
       "      <td>1</td>\n",
       "      <td>0</td>\n",
       "      <td>0</td>\n",
       "      <td>0</td>\n",
       "      <td>0</td>\n",
       "    </tr>\n",
       "    <tr>\n",
       "      <th>3</th>\n",
       "      <td>jd_4c328b1ccf6c9</td>\n",
       "      <td>0</td>\n",
       "      <td>21</td>\n",
       "      <td>Male</td>\n",
       "      <td>2</td>\n",
       "      <td>desktop</td>\n",
       "      <td>windows</td>\n",
       "      <td>Direct</td>\n",
       "      <td>5</td>\n",
       "      <td>1</td>\n",
       "      <td>1</td>\n",
       "      <td>1</td>\n",
       "      <td>1</td>\n",
       "      <td>0</td>\n",
       "      <td>0</td>\n",
       "    </tr>\n",
       "    <tr>\n",
       "      <th>4</th>\n",
       "      <td>jd_4c328a919ff3b</td>\n",
       "      <td>0</td>\n",
       "      <td>17</td>\n",
       "      <td>Male</td>\n",
       "      <td>2</td>\n",
       "      <td>mobile</td>\n",
       "      <td>iOS</td>\n",
       "      <td>Direct</td>\n",
       "      <td>6</td>\n",
       "      <td>1</td>\n",
       "      <td>1</td>\n",
       "      <td>0</td>\n",
       "      <td>0</td>\n",
       "      <td>0</td>\n",
       "      <td>0</td>\n",
       "    </tr>\n",
       "  </tbody>\n",
       "</table>\n",
       "</div>"
      ],
      "text/plain": [
       "            user_id  new_user  age     sex  market   device operative_system  \\\n",
       "0  jd_4c330e6d48c42         0   17  Female       1   mobile          android   \n",
       "1  jd_4c32f441e139d         0   27    Male       2   mobile              iOS   \n",
       "2  jd_4c32a3701702f         0   24  Female       1   mobile          android   \n",
       "3  jd_4c328b1ccf6c9         0   21    Male       2  desktop          windows   \n",
       "4  jd_4c328a919ff3b         0   17    Male       2   mobile              iOS   \n",
       "\n",
       "   source  total_pages_visited  home_page  listing_page  product_page  \\\n",
       "0  Direct                    3          1             1             1   \n",
       "1  Direct                    5          1             0             0   \n",
       "2     Seo                    4          1             1             0   \n",
       "3  Direct                    5          1             1             1   \n",
       "4  Direct                    6          1             1             0   \n",
       "\n",
       "   payment_page  confirmation_page  converted  \n",
       "0             0                  0          0  \n",
       "1             0                  0          0  \n",
       "2             0                  0          0  \n",
       "3             1                  0          0  \n",
       "4             0                  0          0  "
      ]
     },
     "execution_count": 68,
     "metadata": {},
     "output_type": "execute_result"
    }
   ],
   "source": [
    "model_info.head()"
   ]
  },
  {
   "cell_type": "markdown",
   "id": "9dca94d9",
   "metadata": {},
   "source": [
    "### Feature Construct"
   ]
  },
  {
   "cell_type": "code",
   "execution_count": 69,
   "id": "925008e0",
   "metadata": {},
   "outputs": [],
   "source": [
    "model_info['platform'] = model_info['device']\n",
    "\n",
    "platform ={'mobile':'app','desktop':'web'}\n",
    "# since mobile and app, desktop and web are same things in some extend, combine them together. \n",
    "\n",
    "model_info['platform'] = model_info['platform'].map(platform)"
   ]
  },
  {
   "cell_type": "code",
   "execution_count": 70,
   "id": "dd1cbcaf",
   "metadata": {},
   "outputs": [
    {
     "data": {
      "text/plain": [
       "0         mobile_android\n",
       "1             mobile_iOS\n",
       "2         mobile_android\n",
       "3        desktop_windows\n",
       "4             mobile_iOS\n",
       "              ...       \n",
       "99995     mobile_android\n",
       "99996     mobile_android\n",
       "99997        desktop_mac\n",
       "99998     mobile_android\n",
       "99999        desktop_mac\n",
       "Name: os, Length: 99781, dtype: object"
      ]
     },
     "execution_count": 70,
     "metadata": {},
     "output_type": "execute_result"
    }
   ],
   "source": [
    "## combine two features together, os = device+ operative system\n",
    "\n",
    "model_info['os'] = model_info['device'] + '_' +model_info['operative_system']\n",
    "model_info['os']"
   ]
  },
  {
   "cell_type": "code",
   "execution_count": 71,
   "id": "d49f5425",
   "metadata": {},
   "outputs": [
    {
     "data": {
      "text/html": [
       "<div>\n",
       "<style scoped>\n",
       "    .dataframe tbody tr th:only-of-type {\n",
       "        vertical-align: middle;\n",
       "    }\n",
       "\n",
       "    .dataframe tbody tr th {\n",
       "        vertical-align: top;\n",
       "    }\n",
       "\n",
       "    .dataframe thead th {\n",
       "        text-align: right;\n",
       "    }\n",
       "</style>\n",
       "<table border=\"1\" class=\"dataframe\">\n",
       "  <thead>\n",
       "    <tr style=\"text-align: right;\">\n",
       "      <th></th>\n",
       "      <th>user_id</th>\n",
       "      <th>new_user</th>\n",
       "      <th>age</th>\n",
       "      <th>sex</th>\n",
       "      <th>market</th>\n",
       "      <th>source</th>\n",
       "      <th>total_pages_visited</th>\n",
       "      <th>home_page</th>\n",
       "      <th>listing_page</th>\n",
       "      <th>product_page</th>\n",
       "      <th>payment_page</th>\n",
       "      <th>confirmation_page</th>\n",
       "      <th>converted</th>\n",
       "      <th>platform</th>\n",
       "      <th>os</th>\n",
       "    </tr>\n",
       "  </thead>\n",
       "  <tbody>\n",
       "    <tr>\n",
       "      <th>0</th>\n",
       "      <td>jd_4c330e6d48c42</td>\n",
       "      <td>0</td>\n",
       "      <td>17</td>\n",
       "      <td>Female</td>\n",
       "      <td>1</td>\n",
       "      <td>Direct</td>\n",
       "      <td>3</td>\n",
       "      <td>1</td>\n",
       "      <td>1</td>\n",
       "      <td>1</td>\n",
       "      <td>0</td>\n",
       "      <td>0</td>\n",
       "      <td>0</td>\n",
       "      <td>app</td>\n",
       "      <td>mobile_android</td>\n",
       "    </tr>\n",
       "    <tr>\n",
       "      <th>1</th>\n",
       "      <td>jd_4c32f441e139d</td>\n",
       "      <td>0</td>\n",
       "      <td>27</td>\n",
       "      <td>Male</td>\n",
       "      <td>2</td>\n",
       "      <td>Direct</td>\n",
       "      <td>5</td>\n",
       "      <td>1</td>\n",
       "      <td>0</td>\n",
       "      <td>0</td>\n",
       "      <td>0</td>\n",
       "      <td>0</td>\n",
       "      <td>0</td>\n",
       "      <td>app</td>\n",
       "      <td>mobile_iOS</td>\n",
       "    </tr>\n",
       "    <tr>\n",
       "      <th>2</th>\n",
       "      <td>jd_4c32a3701702f</td>\n",
       "      <td>0</td>\n",
       "      <td>24</td>\n",
       "      <td>Female</td>\n",
       "      <td>1</td>\n",
       "      <td>Seo</td>\n",
       "      <td>4</td>\n",
       "      <td>1</td>\n",
       "      <td>1</td>\n",
       "      <td>0</td>\n",
       "      <td>0</td>\n",
       "      <td>0</td>\n",
       "      <td>0</td>\n",
       "      <td>app</td>\n",
       "      <td>mobile_android</td>\n",
       "    </tr>\n",
       "    <tr>\n",
       "      <th>3</th>\n",
       "      <td>jd_4c328b1ccf6c9</td>\n",
       "      <td>0</td>\n",
       "      <td>21</td>\n",
       "      <td>Male</td>\n",
       "      <td>2</td>\n",
       "      <td>Direct</td>\n",
       "      <td>5</td>\n",
       "      <td>1</td>\n",
       "      <td>1</td>\n",
       "      <td>1</td>\n",
       "      <td>1</td>\n",
       "      <td>0</td>\n",
       "      <td>0</td>\n",
       "      <td>web</td>\n",
       "      <td>desktop_windows</td>\n",
       "    </tr>\n",
       "    <tr>\n",
       "      <th>4</th>\n",
       "      <td>jd_4c328a919ff3b</td>\n",
       "      <td>0</td>\n",
       "      <td>17</td>\n",
       "      <td>Male</td>\n",
       "      <td>2</td>\n",
       "      <td>Direct</td>\n",
       "      <td>6</td>\n",
       "      <td>1</td>\n",
       "      <td>1</td>\n",
       "      <td>0</td>\n",
       "      <td>0</td>\n",
       "      <td>0</td>\n",
       "      <td>0</td>\n",
       "      <td>app</td>\n",
       "      <td>mobile_iOS</td>\n",
       "    </tr>\n",
       "  </tbody>\n",
       "</table>\n",
       "</div>"
      ],
      "text/plain": [
       "            user_id  new_user  age     sex  market  source  \\\n",
       "0  jd_4c330e6d48c42         0   17  Female       1  Direct   \n",
       "1  jd_4c32f441e139d         0   27    Male       2  Direct   \n",
       "2  jd_4c32a3701702f         0   24  Female       1     Seo   \n",
       "3  jd_4c328b1ccf6c9         0   21    Male       2  Direct   \n",
       "4  jd_4c328a919ff3b         0   17    Male       2  Direct   \n",
       "\n",
       "   total_pages_visited  home_page  listing_page  product_page  payment_page  \\\n",
       "0                    3          1             1             1             0   \n",
       "1                    5          1             0             0             0   \n",
       "2                    4          1             1             0             0   \n",
       "3                    5          1             1             1             1   \n",
       "4                    6          1             1             0             0   \n",
       "\n",
       "   confirmation_page  converted platform               os  \n",
       "0                  0          0      app   mobile_android  \n",
       "1                  0          0      app       mobile_iOS  \n",
       "2                  0          0      app   mobile_android  \n",
       "3                  0          0      web  desktop_windows  \n",
       "4                  0          0      app       mobile_iOS  "
      ]
     },
     "execution_count": 71,
     "metadata": {},
     "output_type": "execute_result"
    }
   ],
   "source": [
    "# delete the device and operative_system in the original system\n",
    "model_info.drop(['device','operative_system'], axis =1,inplace = True)\n",
    "model_info.head()"
   ]
  },
  {
   "cell_type": "markdown",
   "id": "61d7ff7f",
   "metadata": {},
   "source": [
    "### Feature choosing"
   ]
  },
  {
   "cell_type": "code",
   "execution_count": 72,
   "id": "ad088d20",
   "metadata": {},
   "outputs": [],
   "source": [
    "# delete 'homepage','listing_page','product_page'...\n",
    "\n",
    "model_info.drop(['user_id','home_page','listing_page',\n",
    "               'product_page','payment_page','confirmation_page'],\n",
    "                axis = 1,inplace = True)"
   ]
  },
  {
   "cell_type": "markdown",
   "id": "15811040",
   "metadata": {},
   "source": [
    "### Feature Processing"
   ]
  },
  {
   "cell_type": "code",
   "execution_count": 73,
   "id": "24c0bf32",
   "metadata": {},
   "outputs": [
    {
     "data": {
      "text/html": [
       "<div>\n",
       "<style scoped>\n",
       "    .dataframe tbody tr th:only-of-type {\n",
       "        vertical-align: middle;\n",
       "    }\n",
       "\n",
       "    .dataframe tbody tr th {\n",
       "        vertical-align: top;\n",
       "    }\n",
       "\n",
       "    .dataframe thead th {\n",
       "        text-align: right;\n",
       "    }\n",
       "</style>\n",
       "<table border=\"1\" class=\"dataframe\">\n",
       "  <thead>\n",
       "    <tr style=\"text-align: right;\">\n",
       "      <th></th>\n",
       "      <th>new_user</th>\n",
       "      <th>age</th>\n",
       "      <th>market</th>\n",
       "      <th>total_pages_visited</th>\n",
       "      <th>converted</th>\n",
       "      <th>sex_Female</th>\n",
       "      <th>sex_Male</th>\n",
       "      <th>source_Ads</th>\n",
       "      <th>source_Direct</th>\n",
       "      <th>source_Seo</th>\n",
       "      <th>platform_app</th>\n",
       "      <th>platform_web</th>\n",
       "      <th>os_desktop_linux</th>\n",
       "      <th>os_desktop_mac</th>\n",
       "      <th>os_desktop_other</th>\n",
       "      <th>os_desktop_windows</th>\n",
       "      <th>os_mobile_android</th>\n",
       "      <th>os_mobile_iOS</th>\n",
       "      <th>os_mobile_other</th>\n",
       "    </tr>\n",
       "  </thead>\n",
       "  <tbody>\n",
       "    <tr>\n",
       "      <th>0</th>\n",
       "      <td>0</td>\n",
       "      <td>17</td>\n",
       "      <td>1</td>\n",
       "      <td>3</td>\n",
       "      <td>0</td>\n",
       "      <td>1</td>\n",
       "      <td>0</td>\n",
       "      <td>0</td>\n",
       "      <td>1</td>\n",
       "      <td>0</td>\n",
       "      <td>1</td>\n",
       "      <td>0</td>\n",
       "      <td>0</td>\n",
       "      <td>0</td>\n",
       "      <td>0</td>\n",
       "      <td>0</td>\n",
       "      <td>1</td>\n",
       "      <td>0</td>\n",
       "      <td>0</td>\n",
       "    </tr>\n",
       "    <tr>\n",
       "      <th>1</th>\n",
       "      <td>0</td>\n",
       "      <td>27</td>\n",
       "      <td>2</td>\n",
       "      <td>5</td>\n",
       "      <td>0</td>\n",
       "      <td>0</td>\n",
       "      <td>1</td>\n",
       "      <td>0</td>\n",
       "      <td>1</td>\n",
       "      <td>0</td>\n",
       "      <td>1</td>\n",
       "      <td>0</td>\n",
       "      <td>0</td>\n",
       "      <td>0</td>\n",
       "      <td>0</td>\n",
       "      <td>0</td>\n",
       "      <td>0</td>\n",
       "      <td>1</td>\n",
       "      <td>0</td>\n",
       "    </tr>\n",
       "    <tr>\n",
       "      <th>2</th>\n",
       "      <td>0</td>\n",
       "      <td>24</td>\n",
       "      <td>1</td>\n",
       "      <td>4</td>\n",
       "      <td>0</td>\n",
       "      <td>1</td>\n",
       "      <td>0</td>\n",
       "      <td>0</td>\n",
       "      <td>0</td>\n",
       "      <td>1</td>\n",
       "      <td>1</td>\n",
       "      <td>0</td>\n",
       "      <td>0</td>\n",
       "      <td>0</td>\n",
       "      <td>0</td>\n",
       "      <td>0</td>\n",
       "      <td>1</td>\n",
       "      <td>0</td>\n",
       "      <td>0</td>\n",
       "    </tr>\n",
       "    <tr>\n",
       "      <th>3</th>\n",
       "      <td>0</td>\n",
       "      <td>21</td>\n",
       "      <td>2</td>\n",
       "      <td>5</td>\n",
       "      <td>0</td>\n",
       "      <td>0</td>\n",
       "      <td>1</td>\n",
       "      <td>0</td>\n",
       "      <td>1</td>\n",
       "      <td>0</td>\n",
       "      <td>0</td>\n",
       "      <td>1</td>\n",
       "      <td>0</td>\n",
       "      <td>0</td>\n",
       "      <td>0</td>\n",
       "      <td>1</td>\n",
       "      <td>0</td>\n",
       "      <td>0</td>\n",
       "      <td>0</td>\n",
       "    </tr>\n",
       "    <tr>\n",
       "      <th>4</th>\n",
       "      <td>0</td>\n",
       "      <td>17</td>\n",
       "      <td>2</td>\n",
       "      <td>6</td>\n",
       "      <td>0</td>\n",
       "      <td>0</td>\n",
       "      <td>1</td>\n",
       "      <td>0</td>\n",
       "      <td>1</td>\n",
       "      <td>0</td>\n",
       "      <td>1</td>\n",
       "      <td>0</td>\n",
       "      <td>0</td>\n",
       "      <td>0</td>\n",
       "      <td>0</td>\n",
       "      <td>0</td>\n",
       "      <td>0</td>\n",
       "      <td>1</td>\n",
       "      <td>0</td>\n",
       "    </tr>\n",
       "  </tbody>\n",
       "</table>\n",
       "</div>"
      ],
      "text/plain": [
       "   new_user  age  market  total_pages_visited  converted  sex_Female  \\\n",
       "0         0   17       1                    3          0           1   \n",
       "1         0   27       2                    5          0           0   \n",
       "2         0   24       1                    4          0           1   \n",
       "3         0   21       2                    5          0           0   \n",
       "4         0   17       2                    6          0           0   \n",
       "\n",
       "   sex_Male  source_Ads  source_Direct  source_Seo  platform_app  \\\n",
       "0         0           0              1           0             1   \n",
       "1         1           0              1           0             1   \n",
       "2         0           0              0           1             1   \n",
       "3         1           0              1           0             0   \n",
       "4         1           0              1           0             1   \n",
       "\n",
       "   platform_web  os_desktop_linux  os_desktop_mac  os_desktop_other  \\\n",
       "0             0                 0               0                 0   \n",
       "1             0                 0               0                 0   \n",
       "2             0                 0               0                 0   \n",
       "3             1                 0               0                 0   \n",
       "4             0                 0               0                 0   \n",
       "\n",
       "   os_desktop_windows  os_mobile_android  os_mobile_iOS  os_mobile_other  \n",
       "0                   0                  1              0                0  \n",
       "1                   0                  0              1                0  \n",
       "2                   0                  1              0                0  \n",
       "3                   1                  0              0                0  \n",
       "4                   0                  0              1                0  "
      ]
     },
     "execution_count": 73,
     "metadata": {},
     "output_type": "execute_result"
    }
   ],
   "source": [
    "data_LR = pd.get_dummies(model_info,drop_first = False)\n",
    "data_LR.head()"
   ]
  },
  {
   "cell_type": "code",
   "execution_count": 74,
   "id": "ecc6dce1",
   "metadata": {},
   "outputs": [],
   "source": [
    "## Continuous feature age, total_papes_visited is normalized, essentially mapping the data points to the [0,1] interval\n",
    "## reshape(-1,1) means (any row, 1 column)\n",
    "## reshape(1,-1) means (1 row, any column)\n",
    "from sklearn.preprocessing import MinMaxScaler\n",
    "\n",
    "data_LR['total_pages_visited'] = MinMaxScaler().fit_transform(data_LR['total_pages_visited'].values.reshape(-1,1)).reshape(1,-1)[0]"
   ]
  },
  {
   "cell_type": "code",
   "execution_count": 75,
   "id": "745b0b60",
   "metadata": {},
   "outputs": [
    {
     "data": {
      "text/plain": [
       "(99781, 19)"
      ]
     },
     "execution_count": 75,
     "metadata": {},
     "output_type": "execute_result"
    }
   ],
   "source": [
    "data_LR.shape"
   ]
  },
  {
   "cell_type": "code",
   "execution_count": 76,
   "id": "fb3fd8dc",
   "metadata": {},
   "outputs": [
    {
     "data": {
      "text/html": [
       "<div>\n",
       "<style scoped>\n",
       "    .dataframe tbody tr th:only-of-type {\n",
       "        vertical-align: middle;\n",
       "    }\n",
       "\n",
       "    .dataframe tbody tr th {\n",
       "        vertical-align: top;\n",
       "    }\n",
       "\n",
       "    .dataframe thead th {\n",
       "        text-align: right;\n",
       "    }\n",
       "</style>\n",
       "<table border=\"1\" class=\"dataframe\">\n",
       "  <thead>\n",
       "    <tr style=\"text-align: right;\">\n",
       "      <th></th>\n",
       "      <th>new_user</th>\n",
       "      <th>age</th>\n",
       "      <th>market</th>\n",
       "      <th>total_pages_visited</th>\n",
       "      <th>converted</th>\n",
       "      <th>sex_Female</th>\n",
       "      <th>sex_Male</th>\n",
       "      <th>source_Ads</th>\n",
       "      <th>source_Direct</th>\n",
       "      <th>source_Seo</th>\n",
       "      <th>platform_app</th>\n",
       "      <th>platform_web</th>\n",
       "      <th>os_desktop_linux</th>\n",
       "      <th>os_desktop_mac</th>\n",
       "      <th>os_desktop_other</th>\n",
       "      <th>os_desktop_windows</th>\n",
       "      <th>os_mobile_android</th>\n",
       "      <th>os_mobile_iOS</th>\n",
       "      <th>os_mobile_other</th>\n",
       "    </tr>\n",
       "  </thead>\n",
       "  <tbody>\n",
       "    <tr>\n",
       "      <th>0</th>\n",
       "      <td>0</td>\n",
       "      <td>17</td>\n",
       "      <td>1</td>\n",
       "      <td>3</td>\n",
       "      <td>0</td>\n",
       "      <td>1</td>\n",
       "      <td>0</td>\n",
       "      <td>0</td>\n",
       "      <td>1</td>\n",
       "      <td>0</td>\n",
       "      <td>1</td>\n",
       "      <td>0</td>\n",
       "      <td>0</td>\n",
       "      <td>0</td>\n",
       "      <td>0</td>\n",
       "      <td>0</td>\n",
       "      <td>1</td>\n",
       "      <td>0</td>\n",
       "      <td>0</td>\n",
       "    </tr>\n",
       "    <tr>\n",
       "      <th>1</th>\n",
       "      <td>0</td>\n",
       "      <td>27</td>\n",
       "      <td>2</td>\n",
       "      <td>5</td>\n",
       "      <td>0</td>\n",
       "      <td>0</td>\n",
       "      <td>1</td>\n",
       "      <td>0</td>\n",
       "      <td>1</td>\n",
       "      <td>0</td>\n",
       "      <td>1</td>\n",
       "      <td>0</td>\n",
       "      <td>0</td>\n",
       "      <td>0</td>\n",
       "      <td>0</td>\n",
       "      <td>0</td>\n",
       "      <td>0</td>\n",
       "      <td>1</td>\n",
       "      <td>0</td>\n",
       "    </tr>\n",
       "    <tr>\n",
       "      <th>2</th>\n",
       "      <td>0</td>\n",
       "      <td>24</td>\n",
       "      <td>1</td>\n",
       "      <td>4</td>\n",
       "      <td>0</td>\n",
       "      <td>1</td>\n",
       "      <td>0</td>\n",
       "      <td>0</td>\n",
       "      <td>0</td>\n",
       "      <td>1</td>\n",
       "      <td>1</td>\n",
       "      <td>0</td>\n",
       "      <td>0</td>\n",
       "      <td>0</td>\n",
       "      <td>0</td>\n",
       "      <td>0</td>\n",
       "      <td>1</td>\n",
       "      <td>0</td>\n",
       "      <td>0</td>\n",
       "    </tr>\n",
       "    <tr>\n",
       "      <th>3</th>\n",
       "      <td>0</td>\n",
       "      <td>21</td>\n",
       "      <td>2</td>\n",
       "      <td>5</td>\n",
       "      <td>0</td>\n",
       "      <td>0</td>\n",
       "      <td>1</td>\n",
       "      <td>0</td>\n",
       "      <td>1</td>\n",
       "      <td>0</td>\n",
       "      <td>0</td>\n",
       "      <td>1</td>\n",
       "      <td>0</td>\n",
       "      <td>0</td>\n",
       "      <td>0</td>\n",
       "      <td>1</td>\n",
       "      <td>0</td>\n",
       "      <td>0</td>\n",
       "      <td>0</td>\n",
       "    </tr>\n",
       "    <tr>\n",
       "      <th>4</th>\n",
       "      <td>0</td>\n",
       "      <td>17</td>\n",
       "      <td>2</td>\n",
       "      <td>6</td>\n",
       "      <td>0</td>\n",
       "      <td>0</td>\n",
       "      <td>1</td>\n",
       "      <td>0</td>\n",
       "      <td>1</td>\n",
       "      <td>0</td>\n",
       "      <td>1</td>\n",
       "      <td>0</td>\n",
       "      <td>0</td>\n",
       "      <td>0</td>\n",
       "      <td>0</td>\n",
       "      <td>0</td>\n",
       "      <td>0</td>\n",
       "      <td>1</td>\n",
       "      <td>0</td>\n",
       "    </tr>\n",
       "  </tbody>\n",
       "</table>\n",
       "</div>"
      ],
      "text/plain": [
       "   new_user  age  market  total_pages_visited  converted  sex_Female  \\\n",
       "0         0   17       1                    3          0           1   \n",
       "1         0   27       2                    5          0           0   \n",
       "2         0   24       1                    4          0           1   \n",
       "3         0   21       2                    5          0           0   \n",
       "4         0   17       2                    6          0           0   \n",
       "\n",
       "   sex_Male  source_Ads  source_Direct  source_Seo  platform_app  \\\n",
       "0         0           0              1           0             1   \n",
       "1         1           0              1           0             1   \n",
       "2         0           0              0           1             1   \n",
       "3         1           0              1           0             0   \n",
       "4         1           0              1           0             1   \n",
       "\n",
       "   platform_web  os_desktop_linux  os_desktop_mac  os_desktop_other  \\\n",
       "0             0                 0               0                 0   \n",
       "1             0                 0               0                 0   \n",
       "2             0                 0               0                 0   \n",
       "3             1                 0               0                 0   \n",
       "4             0                 0               0                 0   \n",
       "\n",
       "   os_desktop_windows  os_mobile_android  os_mobile_iOS  os_mobile_other  \n",
       "0                   0                  1              0                0  \n",
       "1                   0                  0              1                0  \n",
       "2                   0                  1              0                0  \n",
       "3                   1                  0              0                0  \n",
       "4                   0                  0              1                0  "
      ]
     },
     "execution_count": 76,
     "metadata": {},
     "output_type": "execute_result"
    }
   ],
   "source": [
    "data_tree = pd.get_dummies(model_info, drop_first = False)\n",
    "data_tree.head()"
   ]
  },
  {
   "cell_type": "code",
   "execution_count": 77,
   "id": "87a25cec",
   "metadata": {},
   "outputs": [
    {
     "data": {
      "text/html": [
       "<div>\n",
       "<style scoped>\n",
       "    .dataframe tbody tr th:only-of-type {\n",
       "        vertical-align: middle;\n",
       "    }\n",
       "\n",
       "    .dataframe tbody tr th {\n",
       "        vertical-align: top;\n",
       "    }\n",
       "\n",
       "    .dataframe thead th {\n",
       "        text-align: right;\n",
       "    }\n",
       "</style>\n",
       "<table border=\"1\" class=\"dataframe\">\n",
       "  <thead>\n",
       "    <tr style=\"text-align: right;\">\n",
       "      <th></th>\n",
       "      <th>new_user</th>\n",
       "      <th>age</th>\n",
       "      <th>sex</th>\n",
       "      <th>market</th>\n",
       "      <th>source</th>\n",
       "      <th>total_pages_visited</th>\n",
       "      <th>converted</th>\n",
       "      <th>platform</th>\n",
       "      <th>os</th>\n",
       "    </tr>\n",
       "  </thead>\n",
       "  <tbody>\n",
       "    <tr>\n",
       "      <th>0</th>\n",
       "      <td>0</td>\n",
       "      <td>17</td>\n",
       "      <td>0</td>\n",
       "      <td>1</td>\n",
       "      <td>Direct</td>\n",
       "      <td>3</td>\n",
       "      <td>0</td>\n",
       "      <td>app</td>\n",
       "      <td>mobile_android</td>\n",
       "    </tr>\n",
       "    <tr>\n",
       "      <th>1</th>\n",
       "      <td>0</td>\n",
       "      <td>27</td>\n",
       "      <td>1</td>\n",
       "      <td>2</td>\n",
       "      <td>Direct</td>\n",
       "      <td>5</td>\n",
       "      <td>0</td>\n",
       "      <td>app</td>\n",
       "      <td>mobile_iOS</td>\n",
       "    </tr>\n",
       "    <tr>\n",
       "      <th>2</th>\n",
       "      <td>0</td>\n",
       "      <td>24</td>\n",
       "      <td>0</td>\n",
       "      <td>1</td>\n",
       "      <td>Seo</td>\n",
       "      <td>4</td>\n",
       "      <td>0</td>\n",
       "      <td>app</td>\n",
       "      <td>mobile_android</td>\n",
       "    </tr>\n",
       "    <tr>\n",
       "      <th>3</th>\n",
       "      <td>0</td>\n",
       "      <td>21</td>\n",
       "      <td>1</td>\n",
       "      <td>2</td>\n",
       "      <td>Direct</td>\n",
       "      <td>5</td>\n",
       "      <td>0</td>\n",
       "      <td>web</td>\n",
       "      <td>desktop_windows</td>\n",
       "    </tr>\n",
       "    <tr>\n",
       "      <th>4</th>\n",
       "      <td>0</td>\n",
       "      <td>17</td>\n",
       "      <td>1</td>\n",
       "      <td>2</td>\n",
       "      <td>Direct</td>\n",
       "      <td>6</td>\n",
       "      <td>0</td>\n",
       "      <td>app</td>\n",
       "      <td>mobile_iOS</td>\n",
       "    </tr>\n",
       "  </tbody>\n",
       "</table>\n",
       "</div>"
      ],
      "text/plain": [
       "   new_user  age  sex  market  source  total_pages_visited  converted  \\\n",
       "0         0   17    0       1  Direct                    3          0   \n",
       "1         0   27    1       2  Direct                    5          0   \n",
       "2         0   24    0       1     Seo                    4          0   \n",
       "3         0   21    1       2  Direct                    5          0   \n",
       "4         0   17    1       2  Direct                    6          0   \n",
       "\n",
       "  platform               os  \n",
       "0      app   mobile_android  \n",
       "1      app       mobile_iOS  \n",
       "2      app   mobile_android  \n",
       "3      web  desktop_windows  \n",
       "4      app       mobile_iOS  "
      ]
     },
     "execution_count": 77,
     "metadata": {},
     "output_type": "execute_result"
    }
   ],
   "source": [
    "from sklearn.preprocessing import LabelEncoder\n",
    "\n",
    "data_tree1 = model_info.copy(deep = True)\n",
    "\n",
    "sex_le = LabelEncoder()\n",
    "data_tree1['sex'] = sex_le.fit_transform(data_tree1['sex'])\n",
    "data_tree1.head()"
   ]
  },
  {
   "cell_type": "code",
   "execution_count": 78,
   "id": "1e1adb4e",
   "metadata": {},
   "outputs": [
    {
     "data": {
      "text/plain": [
       "array(['Female', 'Male'], dtype=object)"
      ]
     },
     "execution_count": 78,
     "metadata": {},
     "output_type": "execute_result"
    }
   ],
   "source": [
    "sex_le.inverse_transform([0,1])"
   ]
  },
  {
   "cell_type": "code",
   "execution_count": 79,
   "id": "d60803c4",
   "metadata": {},
   "outputs": [
    {
     "data": {
      "text/plain": [
       "array([0, 1])"
      ]
     },
     "execution_count": 79,
     "metadata": {},
     "output_type": "execute_result"
    }
   ],
   "source": [
    "sex_le.transform(['Female','Male'])"
   ]
  },
  {
   "cell_type": "markdown",
   "id": "40a97841",
   "metadata": {},
   "source": [
    "# Model building"
   ]
  },
  {
   "cell_type": "markdown",
   "id": "b8eba3a4",
   "metadata": {},
   "source": [
    "## Logistic Regression"
   ]
  },
  {
   "cell_type": "code",
   "execution_count": 80,
   "id": "e44ca308",
   "metadata": {},
   "outputs": [],
   "source": [
    "from sklearn.model_selection import train_test_split\n",
    "np.random.seed(4684)\n",
    "\n",
    "x = data_LR.drop(['converted'],axis = 1)\n",
    "y = data_LR['converted']\n",
    "\n",
    "train_X, test_X, train_Y, test_Y = train_test_split(x,y,test_size = 0.2, random_state = 1)"
   ]
  },
  {
   "cell_type": "code",
   "execution_count": 81,
   "id": "3bbe1621",
   "metadata": {},
   "outputs": [
    {
     "data": {
      "text/plain": [
       "LogisticRegression(C=1.0, class_weight=None, dual=False, fit_intercept=True,\n",
       "                   intercept_scaling=1, l1_ratio=None, max_iter=100,\n",
       "                   multi_class='auto', n_jobs=None, penalty='l2',\n",
       "                   random_state=42, solver='lbfgs', tol=0.0001, verbose=0,\n",
       "                   warm_start=False)"
      ]
     },
     "execution_count": 81,
     "metadata": {},
     "output_type": "execute_result"
    }
   ],
   "source": [
    "from sklearn.linear_model import LogisticRegression\n",
    "from sklearn import set_config\n",
    "set_config(print_changed_only = False)\n",
    "\n",
    "logic_model = LogisticRegression(random_state = 42)\n",
    "\n",
    "logic_model.fit(train_X, train_Y)"
   ]
  },
  {
   "cell_type": "code",
   "execution_count": 83,
   "id": "07e11c0c",
   "metadata": {},
   "outputs": [],
   "source": [
    "predict_Y = logic_model.predict(test_X)"
   ]
  },
  {
   "cell_type": "code",
   "execution_count": 84,
   "id": "31f171bc",
   "metadata": {},
   "outputs": [
    {
     "name": "stdout",
     "output_type": "stream",
     "text": [
      "Predict      0    1\n",
      "Acutual            \n",
      "0        19416   83\n",
      "1          324  134 \n",
      "\n",
      "accuracy  0.9796061532294433\n",
      "precision 0.6175115207373272\n",
      "recall    0.2925764192139738\n",
      "f1        0.3970370370370371\n"
     ]
    }
   ],
   "source": [
    "from sklearn.metrics import accuracy_score, precision_score, recall_score,f1_score, roc_auc_score\n",
    "\n",
    "data = {'test_Y':test_Y,'predict_Y':predict_Y}\n",
    "\n",
    "df = pd.DataFrame(data,columns=['test_Y','predict_Y'])\n",
    "\n",
    "confusion_matrix = pd.crosstab(df['test_Y'],df['predict_Y'],rownames = ['Acutual'],colnames = ['Predict'])\n",
    "\n",
    "print(confusion_matrix,'\\n')\n",
    "print('accuracy  %s'% accuracy_score(test_Y, predict_Y))\n",
    "print('precision %s'% precision_score(test_Y,predict_Y))\n",
    "print('recall    %s'% recall_score(test_Y, predict_Y))\n",
    "print('f1        %s'% f1_score(test_Y, predict_Y))"
   ]
  },
  {
   "cell_type": "markdown",
   "id": "6ab211fb",
   "metadata": {},
   "source": [
    "### feature importance"
   ]
  },
  {
   "cell_type": "code",
   "execution_count": 85,
   "id": "33de8901",
   "metadata": {},
   "outputs": [
    {
     "data": {
      "text/plain": [
       "total_pages_visited    9.674120\n",
       "sex_Male               1.299011\n",
       "platform_app           1.133417\n",
       "new_user               0.908702\n",
       "source_Seo             0.806942\n",
       "platform_web           0.761180\n",
       "source_Ads             0.675038\n",
       "os_mobile_android      0.619981\n",
       "sex_Female             0.595586\n",
       "os_mobile_other        0.516579\n",
       "source_Direct          0.412617\n",
       "os_desktop_windows     0.362261\n",
       "os_desktop_mac         0.247491\n",
       "os_desktop_linux       0.155585\n",
       "age                    0.073297\n",
       "market                 0.054236\n",
       "os_desktop_other       0.004157\n",
       "os_mobile_iOS          0.003143\n",
       "dtype: float64"
      ]
     },
     "execution_count": 85,
     "metadata": {},
     "output_type": "execute_result"
    }
   ],
   "source": [
    "feature_importance = pd.Series(abs(logic_model.coef_[0]),index = data_LR.drop(['converted'],axis = 1).columns)\n",
    "feature_importance.sort_values(ascending = False)\n",
    "\n",
    "## get the coeficient, i.e. the feature importance "
   ]
  },
  {
   "cell_type": "markdown",
   "id": "8ee36ddd",
   "metadata": {},
   "source": [
    "## Random Forest Model"
   ]
  },
  {
   "cell_type": "code",
   "execution_count": 88,
   "id": "6e270ee1",
   "metadata": {},
   "outputs": [
    {
     "data": {
      "text/plain": [
       "array([0, 0, 0, ..., 0, 0, 0], dtype=int64)"
      ]
     },
     "execution_count": 88,
     "metadata": {},
     "output_type": "execute_result"
    }
   ],
   "source": [
    "from sklearn.model_selection import train_test_split\n",
    "from sklearn.ensemble import RandomForestClassifier\n",
    "\n",
    "x = data_LR.drop(['converted'],axis = 1)\n",
    "y = data_LR['converted']\n",
    "\n",
    "train_X, test_X, train_Y, test_Y = train_test_split(x,y,test_size = 0.2, random_state = 42)\n",
    "\n",
    "rf_model = RandomForestClassifier(n_estimators=100, random_state=59)\n",
    "rf_model.fit(train_X, train_Y)\n",
    "\n",
    "predict_Y = rf_model.predict(test_X)\n",
    "predict_Y"
   ]
  },
  {
   "cell_type": "code",
   "execution_count": 89,
   "id": "47a09c23",
   "metadata": {
    "scrolled": true
   },
   "outputs": [
    {
     "name": "stdout",
     "output_type": "stream",
     "text": [
      "Predict      0    1\n",
      "Acutual            \n",
      "0        19382  132\n",
      "1          280  163 \n",
      "\n",
      "accuracy  0.9793556145713284\n",
      "precision 0.5525423728813559\n",
      "recall    0.36794582392776526\n",
      "f1        0.4417344173441734\n"
     ]
    }
   ],
   "source": [
    "data = {'test_Y':test_Y,'predict_Y':predict_Y}\n",
    "\n",
    "df = pd.DataFrame(data,columns=['test_Y','predict_Y'])\n",
    "\n",
    "confusion_matrix = pd.crosstab(df['test_Y'],df['predict_Y'],rownames = ['Acutual'],colnames = ['Predict'])\n",
    "\n",
    "print(confusion_matrix,'\\n')\n",
    "print('accuracy  %s'% accuracy_score(test_Y, predict_Y))\n",
    "print('precision %s'% precision_score(test_Y,predict_Y))\n",
    "print('recall    %s'% recall_score(test_Y, predict_Y))\n",
    "print('f1        %s'% f1_score(test_Y, predict_Y))"
   ]
  },
  {
   "cell_type": "code",
   "execution_count": 90,
   "id": "8f6e1168",
   "metadata": {},
   "outputs": [
    {
     "name": "stdout",
     "output_type": "stream",
     "text": [
      "best parameters:  {'criterion': 'gini', 'max_depth': None, 'min_samples_leaf': 1, 'min_samples_split': 10, 'n_estimators': 400}\n",
      "best_f1score 0.458940762497482\n"
     ]
    }
   ],
   "source": [
    "from sklearn.model_selection import GridSearchCV\n",
    "\n",
    "parameters = {    'n_estimators': [400, 500, 600],\n",
    "    'criterion': ['gini', 'entropy'],\n",
    "    'max_depth': [None, 10, 20],\n",
    "    'min_samples_split': [10,20, 30],\n",
    "    'min_samples_leaf': [1, 2, 4],\n",
    "             }\n",
    "\n",
    "rf = RandomForestClassifier(random_state = 42)\n",
    "\n",
    "GS = GridSearchCV(estimator = rf,param_grid = parameters,cv=5, scoring = 'f1',n_jobs =-1)\n",
    "\n",
    "GS = GS.fit(train_X,train_Y)\n",
    "print(\"best parameters: \",GS.best_params_)\n",
    "print(\"best_f1score\",GS.best_score_)"
   ]
  },
  {
   "cell_type": "code",
   "execution_count": 91,
   "id": "d5e9fdc5",
   "metadata": {},
   "outputs": [
    {
     "name": "stdout",
     "output_type": "stream",
     "text": [
      "Predict      0    1\n",
      "Acutual            \n",
      "0        19456   58\n",
      "1          286  157 \n",
      "\n",
      "accuracy  0.9827629403216916\n",
      "precision 0.7302325581395349\n",
      "recall    0.3544018058690745\n",
      "f1        0.47720364741641336\n"
     ]
    }
   ],
   "source": [
    "best_rf_model = GS.best_estimator_\n",
    "best_rf_model.fit(train_X,train_Y)\n",
    "\n",
    "predict_Y = best_rf_model.predict(test_X)\n",
    "\n",
    "data = {'test_Y': test_Y,\n",
    "       'predict_Y': predict_Y}\n",
    "\n",
    "df = pd.DataFrame(data,columns = ['test_Y','predict_Y'])\n",
    "\n",
    "confusion_matrix = pd.crosstab(df['test_Y'],df['predict_Y'],rownames = ['Acutual'],colnames = ['Predict'])\n",
    "\n",
    "print(confusion_matrix,'\\n')\n",
    "print('accuracy  %s'% accuracy_score(test_Y, predict_Y))\n",
    "print('precision %s'% precision_score(test_Y,predict_Y))\n",
    "print('recall    %s'% recall_score(test_Y, predict_Y))\n",
    "print('f1        %s'% f1_score(test_Y, predict_Y))"
   ]
  },
  {
   "cell_type": "code",
   "execution_count": 92,
   "id": "93778719",
   "metadata": {},
   "outputs": [
    {
     "name": "stdout",
     "output_type": "stream",
     "text": [
      "                Feature  Importance\n",
      "3   total_pages_visited    0.015924\n",
      "0              new_user    0.002681\n",
      "1                   age    0.002525\n",
      "2                market    0.000561\n",
      "15    os_mobile_android    0.000456\n",
      "7         source_Direct    0.000416\n",
      "12       os_desktop_mac    0.000301\n",
      "4            sex_Female    0.000256\n",
      "8            source_Seo    0.000230\n",
      "5              sex_Male    0.000225\n",
      "6            source_Ads    0.000150\n",
      "17      os_mobile_other    0.000135\n",
      "14   os_desktop_windows    0.000085\n",
      "11     os_desktop_linux    0.000000\n",
      "13     os_desktop_other    0.000000\n",
      "9          platform_app   -0.000005\n",
      "10         platform_web   -0.000050\n",
      "16        os_mobile_iOS   -0.000075\n"
     ]
    }
   ],
   "source": [
    "from sklearn.inspection import permutation_importance\n",
    "\n",
    "# Calculate permutation importance\n",
    "perm_importance = permutation_importance(best_rf_model, test_X, test_Y, n_repeats=10, random_state=42)\n",
    "\n",
    "# Get feature names\n",
    "feature_names = train_X.columns\n",
    "\n",
    "# Create a DataFrame to store feature importance\n",
    "importance_df = pd.DataFrame({\n",
    "    'Feature': feature_names,\n",
    "    'Importance': perm_importance.importances_mean\n",
    "})\n",
    "\n",
    "# Sort DataFrame by importance in descending order\n",
    "importance_df = importance_df.sort_values(by='Importance', ascending=False)\n",
    "\n",
    "# Display the DataFrame\n",
    "print(importance_df)"
   ]
  },
  {
   "cell_type": "code",
   "execution_count": 95,
   "id": "99ca5ccf",
   "metadata": {},
   "outputs": [
    {
     "data": {
      "text/plain": [
       "total_pages_visited    0.629141\n",
       "age                    0.199093\n",
       "market                 0.044007\n",
       "new_user               0.025305\n",
       "os_mobile_android      0.021564\n",
       "source_Direct          0.013505\n",
       "os_mobile_iOS          0.010587\n",
       "source_Seo             0.008784\n",
       "os_desktop_windows     0.007330\n",
       "sex_Male               0.007006\n",
       "sex_Female             0.006999\n",
       "source_Ads             0.005694\n",
       "platform_app           0.004953\n",
       "os_desktop_mac         0.004801\n",
       "platform_web           0.004785\n",
       "os_mobile_other        0.004047\n",
       "os_desktop_linux       0.002197\n",
       "os_desktop_other       0.000203\n",
       "dtype: float64"
      ]
     },
     "execution_count": 95,
     "metadata": {},
     "output_type": "execute_result"
    }
   ],
   "source": [
    "feature_importances = pd.Series(best_rf_model.feature_importances_,index = train_X.columns)\n",
    "\n",
    "feature_importances.sort_values(ascending = False)\n",
    "## total pages visited has a huge influence, then age, sex"
   ]
  },
  {
   "cell_type": "code",
   "execution_count": 96,
   "id": "d1acd40f",
   "metadata": {},
   "outputs": [
    {
     "name": "stdout",
     "output_type": "stream",
     "text": [
      "Predict      0    1\n",
      "Acutual            \n",
      "0        19454   60\n",
      "1          289  154 \n",
      "\n",
      "accuracy  0.9825124016635767\n",
      "precision 0.719626168224299\n",
      "recall    0.3476297968397291\n",
      "f1        0.4687975646879757\n"
     ]
    }
   ],
   "source": [
    "from sklearn.model_selection import train_test_split\n",
    "from sklearn.neural_network import MLPClassifier\n",
    "\n",
    "x = data_LR.drop(['converted'], axis=1)\n",
    "y = data_LR['converted']\n",
    "\n",
    "train_X, test_X, train_Y, test_Y = train_test_split(x, y, test_size=0.2, random_state=42)\n",
    "\n",
    "mlp_model = MLPClassifier(hidden_layer_sizes=(100, 50), activation='relu', solver='adam', max_iter=500, alpha=0.0001, learning_rate='constant', random_state=59)\n",
    "\n",
    "mlp_model.fit(train_X, train_Y)\n",
    "\n",
    "predict_Y = mlp_model.predict(test_X)\n",
    "\n",
    "data = {'test_Y':test_Y,'predict_Y':predict_Y}\n",
    "\n",
    "df = pd.DataFrame(data,columns=['test_Y','predict_Y'])\n",
    "\n",
    "confusion_matrix = pd.crosstab(df['test_Y'],df['predict_Y'],rownames = ['Acutual'],colnames = ['Predict'])\n",
    "\n",
    "print(confusion_matrix,'\\n')\n",
    "print('accuracy  %s'% accuracy_score(test_Y, predict_Y))\n",
    "print('precision %s'% precision_score(test_Y,predict_Y))\n",
    "print('recall    %s'% recall_score(test_Y, predict_Y))\n",
    "print('f1        %s'% f1_score(test_Y, predict_Y))"
   ]
  },
  {
   "cell_type": "markdown",
   "id": "bfddd2f4",
   "metadata": {},
   "source": [
    "## MLP model"
   ]
  },
  {
   "cell_type": "code",
   "execution_count": 97,
   "id": "f7130ef9",
   "metadata": {},
   "outputs": [
    {
     "name": "stdout",
     "output_type": "stream",
     "text": [
      "Best Parameters: {'alpha': 0.0001, 'hidden_layer_sizes': (100, 50), 'solver': 'adam'}\n",
      "Best F1 Score: 0.4516487078529766\n"
     ]
    }
   ],
   "source": [
    "parameters = {\n",
    "    'hidden_layer_sizes': [(100,), (100, 50), (50, 50, 50)],\n",
    "    'solver': ['adam', 'sgd'],\n",
    "    'alpha': [0.0001, 0.001, 0.01],\n",
    "}\n",
    "\n",
    "mlp = MLPClassifier(max_iter = 5000, learning_rate = 'constant', random_state=42)\n",
    "\n",
    "GS = GridSearchCV(estimator=mlp, param_grid=parameters, cv=5, scoring='f1', n_jobs=-1)\n",
    "\n",
    "GS = GS.fit(train_X, train_Y)\n",
    "print(\"Best Parameters:\", GS.best_params_)\n",
    "print(\"Best F1 Score:\", GS.best_score_)"
   ]
  },
  {
   "cell_type": "code",
   "execution_count": 98,
   "id": "dec7b57b",
   "metadata": {},
   "outputs": [
    {
     "name": "stdout",
     "output_type": "stream",
     "text": [
      "Predict      0    1\n",
      "Acutual            \n",
      "0        19473   41\n",
      "1          313  130 \n",
      "\n",
      "accuracy  0.9822618630054617\n",
      "precision 0.7602339181286549\n",
      "recall    0.29345372460496616\n",
      "f1        0.4234527687296417\n"
     ]
    }
   ],
   "source": [
    "best_mlp_model = GS.best_estimator_\n",
    "best_mlp_model.fit(train_X,train_Y)\n",
    "\n",
    "predict_Y = best_mlp_model.predict(test_X)\n",
    "\n",
    "data = {'test_Y': test_Y,\n",
    "       'predict_Y': predict_Y}\n",
    "\n",
    "df = pd.DataFrame(data,columns = ['test_Y','predict_Y'])\n",
    "\n",
    "confusion_matrix = pd.crosstab(df['test_Y'],df['predict_Y'],rownames = ['Acutual'],colnames = ['Predict'])\n",
    "\n",
    "print(confusion_matrix,'\\n')\n",
    "print('accuracy  %s'% accuracy_score(test_Y, predict_Y))\n",
    "print('precision %s'% precision_score(test_Y,predict_Y))\n",
    "print('recall    %s'% recall_score(test_Y, predict_Y))\n",
    "print('f1        %s'% f1_score(test_Y, predict_Y))"
   ]
  },
  {
   "cell_type": "code",
   "execution_count": 99,
   "id": "d3906bba",
   "metadata": {},
   "outputs": [],
   "source": [
    "model_list = {}"
   ]
  },
  {
   "cell_type": "code",
   "execution_count": 104,
   "id": "52e9c15c",
   "metadata": {},
   "outputs": [],
   "source": [
    "model_list[\"LR\"] = logic_model\n",
    "model_list[\"RF\"] = best_rf_model\n",
    "model_list['MLP'] = best_mlp_model"
   ]
  },
  {
   "cell_type": "markdown",
   "id": "5ab56361",
   "metadata": {},
   "source": [
    "## Cross-validation"
   ]
  },
  {
   "cell_type": "code",
   "execution_count": 105,
   "id": "1dafb8a3",
   "metadata": {},
   "outputs": [
    {
     "name": "stdout",
     "output_type": "stream",
     "text": [
      "LR\n",
      "RF\n",
      "MLP\n"
     ]
    }
   ],
   "source": [
    "from sklearn.model_selection import cross_val_score\n",
    "from sklearn.metrics import make_scorer, f1_score\n",
    "k_fold = 5\n",
    "results_cv = {}\n",
    "for algo in model_list.keys():\n",
    "    print(algo)\n",
    "    # Calculate the F1 score for each fold during cross-validation\n",
    "    f1_scorer = make_scorer(f1_score, average='micro')  \n",
    "    results_cv[algo] = np.mean(\n",
    "        cross_val_score(\n",
    "            model_list[algo], x, y, cv=k_fold, scoring=f1_scorer\n",
    "        )\n",
    "    )"
   ]
  },
  {
   "cell_type": "code",
   "execution_count": 106,
   "id": "45dacc29",
   "metadata": {},
   "outputs": [
    {
     "data": {
      "text/plain": [
       "{'LR': 0.9739428762619348, 'RF': 0.972018636420278, 'MLP': 0.9715977214310024}"
      ]
     },
     "execution_count": 106,
     "metadata": {},
     "output_type": "execute_result"
    }
   ],
   "source": [
    "results_cv"
   ]
  }
 ],
 "metadata": {
  "kernelspec": {
   "display_name": "Python 3 (ipykernel)",
   "language": "python",
   "name": "python3"
  },
  "language_info": {
   "codemirror_mode": {
    "name": "ipython",
    "version": 3
   },
   "file_extension": ".py",
   "mimetype": "text/x-python",
   "name": "python",
   "nbconvert_exporter": "python",
   "pygments_lexer": "ipython3",
   "version": "3.9.13"
  },
  "toc": {
   "base_numbering": 1,
   "nav_menu": {},
   "number_sections": true,
   "sideBar": true,
   "skip_h1_title": false,
   "title_cell": "Table of Contents",
   "title_sidebar": "Contents",
   "toc_cell": true,
   "toc_position": {
    "height": "calc(100% - 180px)",
    "left": "10px",
    "top": "150px",
    "width": "231.302px"
   },
   "toc_section_display": true,
   "toc_window_display": true
  },
  "varInspector": {
   "cols": {
    "lenName": 16,
    "lenType": 16,
    "lenVar": 40
   },
   "kernels_config": {
    "python": {
     "delete_cmd_postfix": "",
     "delete_cmd_prefix": "del ",
     "library": "var_list.py",
     "varRefreshCmd": "print(var_dic_list())"
    },
    "r": {
     "delete_cmd_postfix": ") ",
     "delete_cmd_prefix": "rm(",
     "library": "var_list.r",
     "varRefreshCmd": "cat(var_dic_list()) "
    }
   },
   "types_to_exclude": [
    "module",
    "function",
    "builtin_function_or_method",
    "instance",
    "_Feature"
   ],
   "window_display": false
  }
 },
 "nbformat": 4,
 "nbformat_minor": 5
}
